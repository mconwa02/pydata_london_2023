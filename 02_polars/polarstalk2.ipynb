{
 "cells": [
  {
   "cell_type": "code",
   "execution_count": 1,
   "metadata": {
    "colab": {
     "base_uri": "https://localhost:8080/"
    },
    "id": "HBr0HN7H4jGK",
    "outputId": "994d1e37-72b6-4e73-e52c-d3c0721873f0"
   },
   "outputs": [],
   "source": [
    "# !pip install polars"
   ]
  },
  {
   "cell_type": "code",
   "execution_count": 2,
   "metadata": {
    "colab": {
     "base_uri": "https://localhost:8080/"
    },
    "id": "8r78v9QQ4683",
    "outputId": "98dbd608-3a9a-45e7-bbbf-75bba8b78169"
   },
   "outputs": [],
   "source": [
    "#Some gdrive admin\n",
    "# from google.colab import drive\n",
    "# drive.mount('/content/drive')\n",
    "#imports for data processing\n",
    "#reading csv files\n",
    "#data_path = \"drive/My Drive/Data/\"\n",
    "\n",
    "#general house keep and loading the data\n",
    "\n",
    "import polars as pl\n",
    "import numpy as np\n",
    "\n",
    "df = pl.read_csv(\"rawtrainers2.csv\", null_values= [\"Enter an answer\",\"-99\"])"
   ]
  },
  {
   "cell_type": "code",
   "execution_count": 3,
   "metadata": {},
   "outputs": [
    {
     "data": {
      "text/plain": [
       "['RespondentID',\n",
       " 'CollectorID',\n",
       " 'Completion Date',\n",
       " 'ExternalId',\n",
       " 'Country of Residence',\n",
       " 'Average Daily Step Count RC',\n",
       " 'Average Daily Step Count',\n",
       " 'Average Weekly Step Count RC',\n",
       " 'Average Weekly Step Count',\n",
       " 'Running Frequency',\n",
       " '50 Apps Installed on Smartphone-Banking',\n",
       " '50 Apps Installed on Smartphone-Revoult bank',\n",
       " '50 Apps Installed on Smartphone-Starling bank',\n",
       " '50 Apps Installed on Smartphone-Tandem bank',\n",
       " '50 Apps Installed on Smartphone-Credit and Online payments',\n",
       " '50 Apps Installed on Smartphone-Klarna',\n",
       " '50 Apps Installed on Smartphone-Fitness or sports',\n",
       " '50 Apps Installed on Smartphone-Fitbit',\n",
       " '50 Apps Installed on Smartphone-Adidas Running',\n",
       " '50 Apps Installed on Smartphone-Strava',\n",
       " '50 Apps Installed on Smartphone-My fitness pall',\n",
       " '50 Apps Installed on Smartphone-Peleton',\n",
       " '50 Apps Installed on Smartphone-Food and drink',\n",
       " '50 Apps Installed on Smartphone-Deliveroo',\n",
       " '50 Apps Installed on Smartphone-Mcdonalds',\n",
       " '50 Apps Installed on Smartphone-Just Eat',\n",
       " '50 Apps Installed on Smartphone-Burger King',\n",
       " '50 Apps Installed on Smartphone-Dominoes',\n",
       " '50 Apps Installed on Smartphone-Gaming',\n",
       " '50 Apps Installed on Smartphone-Twitch',\n",
       " '50 Apps Installed on Smartphone-Xbox Game Pass',\n",
       " '50 Apps Installed on Smartphone-Playstation app',\n",
       " '50 Apps Installed on Smartphone-Grocery shopping',\n",
       " '50 Apps Installed on Smartphone-Aldi',\n",
       " '50 Apps Installed on Smartphone-Lidl Plus',\n",
       " '50 Apps Installed on Smartphone-Health and wellness',\n",
       " '50 Apps Installed on Smartphone-Calm',\n",
       " '50 Apps Installed on Smartphone-Headspace',\n",
       " '50 Apps Installed on Smartphone-Music or podcasts',\n",
       " '50 Apps Installed on Smartphone-Spotify Music',\n",
       " '50 Apps Installed on Smartphone-Other',\n",
       " '50 Apps Installed on Smartphone-alexa',\n",
       " '50 Apps Installed on Smartphone-Petrol companies',\n",
       " '50 Apps Installed on Smartphone-Shell petrol app',\n",
       " '50 Apps Installed on Smartphone-Retail shopping',\n",
       " '50 Apps Installed on Smartphone-asos',\n",
       " '50 Apps Installed on Smartphone-Adidas',\n",
       " '50 Apps Installed on Smartphone-Boots',\n",
       " '50 Apps Installed on Smartphone-Argos',\n",
       " '50 Apps Installed on Smartphone-Amazon Shopping',\n",
       " '50 Apps Installed on Smartphone-Groupon',\n",
       " '50 Apps Installed on Smartphone-Etsy',\n",
       " '50 Apps Installed on Smartphone-Wowcher',\n",
       " '50 Apps Installed on Smartphone-Social network',\n",
       " '50 Apps Installed on Smartphone-Facebook',\n",
       " '50 Apps Installed on Smartphone-Instagram',\n",
       " '50 Apps Installed on Smartphone-Messenger',\n",
       " '50 Apps Installed on Smartphone-Snapchat',\n",
       " '50 Apps Installed on Smartphone-TikTok',\n",
       " '50 Apps Installed on Smartphone-Twitter',\n",
       " '50 Apps Installed on Smartphone-WhatsApp Messenger',\n",
       " '50 Apps Installed on Smartphone-Telegram',\n",
       " '50 Apps Installed on Smartphone-Signal',\n",
       " '50 Apps Installed on Smartphone-Travel',\n",
       " '50 Apps Installed on Smartphone-Air BNB',\n",
       " '50 Apps Installed on Smartphone-TV streaming',\n",
       " '50 Apps Installed on Smartphone-Netflix',\n",
       " '50 Apps Installed on Smartphone-Prime Video',\n",
       " '50 Apps Installed on Smartphone-Disney+',\n",
       " 'Smartphone Model',\n",
       " 'Smartphone OS',\n",
       " 'UK Region of Residence',\n",
       " 'Citizens tracking of health metrics',\n",
       " 'Physical exercise frequency',\n",
       " 'Clothes style purchasing-Athleisure, e.g. Nike, Adidas, etc',\n",
       " 'Clothes style purchasing-Online fashion clothing, e.g. Boohoo, Shein, etc',\n",
       " 'Clothes style purchasing-High street value retailer clothing, e.g. H&M, TK Maxx, Primark, etc',\n",
       " 'Clothes style purchasing-High street mid range retailer clothing, e.g. Zara, Superdry, Next, etc',\n",
       " 'Clothes style purchasing-High end designer clothing, e.g. Gucci, Prada, etc',\n",
       " 'Clothes style purchasing-Specialised outdoor clothing, e.g. The North Face, Timberland, Jack Wolff, etc',\n",
       " 'Clothes style purchasing-Sports clothing, e.g. running clothing, judo kit, football shirt, etc',\n",
       " 'Clothes style purchasing-Vintage clothing, e.g. second-hand, thrift shop, etc',\n",
       " 'Clothes style purchasing-Workwear',\n",
       " 'Clothes style purchasing-None of the above',\n",
       " 'Openness RC',\n",
       " 'Openness',\n",
       " 'Conscientious RC',\n",
       " 'Conscientious',\n",
       " 'Agreeable RC',\n",
       " 'Agreeable',\n",
       " 'Neurotic RC',\n",
       " 'Neurotic',\n",
       " 'Extraverted RC',\n",
       " 'Extraverted',\n",
       " 'Thrill-Seeking RC',\n",
       " 'Thrill-Seeking',\n",
       " 'Gender',\n",
       " 'Age RC',\n",
       " 'Age',\n",
       " 'At least once connected with Health Data Source',\n",
       " 'At least once connected with Spotify',\n",
       " 'Q1-Have you ever purchased a pair of trainers?',\n",
       " 'Q2.1-What excites you about getting your ideal trainers? - 1',\n",
       " 'Q2.2-What excites you about getting your ideal trainers? - 2',\n",
       " 'Q2.3-What excites you about getting your ideal trainers? - 3',\n",
       " 'Q2.4-What excites you about getting your ideal trainers? - 4',\n",
       " 'Q2.5-What excites you about getting your ideal trainers? - 5',\n",
       " 'Q2.6-What excites you about getting your ideal trainers? - 6',\n",
       " 'Q2.7-What excites you about getting your ideal trainers? - 7',\n",
       " 'Q2.8-What excites you about getting your ideal trainers? - 8',\n",
       " 'Q2.9-What excites you about getting your ideal trainers? - 9',\n",
       " 'Q2.10-What excites you about getting your ideal trainers? - 10',\n",
       " 'Q2.11-What excites you about getting your ideal trainers? - 11',\n",
       " 'Q2.12-What excites you about getting your ideal trainers? - 12',\n",
       " 'Q2.13-What excites you about getting your ideal trainers? - 13',\n",
       " 'Q2.14-What excites you about getting your ideal trainers? - 14',\n",
       " 'Q2.15-What excites you about getting your ideal trainers? - 15',\n",
       " 'Q2.16-What excites you about getting your ideal trainers? - 16',\n",
       " 'Q3.1-Choose images that reflect how you feel? - 1',\n",
       " 'Q3.2-Choose images that reflect how you feel? - 2',\n",
       " 'Q3.3-Choose images that reflect how you feel? - 3',\n",
       " 'Q3.4-Choose images that reflect how you feel? - 4',\n",
       " 'Q3.5-Choose images that reflect how you feel? - 5',\n",
       " 'Q3.6-Choose images that reflect how you feel? - 6',\n",
       " 'Q3.7-Choose images that reflect how you feel? - 7',\n",
       " 'Q3.8-Choose images that reflect how you feel? - 8',\n",
       " 'Q3.9-Choose images that reflect how you feel? - 9',\n",
       " 'Q3.10-Choose images that reflect how you feel? - 10',\n",
       " 'Q3.11-Choose images that reflect how you feel? - 11',\n",
       " 'Q3.12-Choose images that reflect how you feel? - 12',\n",
       " 'Q3.13-Choose images that reflect how you feel? - 13',\n",
       " 'Q3.14-Choose images that reflect how you feel? - 14',\n",
       " 'Q3.15-Choose images that reflect how you feel? - 15',\n",
       " 'Q4-Do you primarily purchase trainers to enhance your personal fashion/style preference or your fitness/performance?',\n",
       " 'Q5.1-Choose UP TO 3 of the trainer types that you wear most frequently? Sports',\n",
       " 'Q5.2-Choose UP TO 3 of the trainer types that you wear most frequently? Gym',\n",
       " 'Q5.3-Choose UP TO 3 of the trainer types that you wear most frequently? Running',\n",
       " 'Q5.4-Choose UP TO 3 of the trainer types that you wear most frequently? Walking',\n",
       " 'Q5.5-Choose UP TO 3 of the trainer types that you wear most frequently? Chuck Taylor',\n",
       " 'Q5.6-Choose UP TO 3 of the trainer types that you wear most frequently? Slip-on',\n",
       " 'Q5.7-Choose UP TO 3 of the trainer types that you wear most frequently? Plimsoll',\n",
       " 'Q5.8-Choose UP TO 3 of the trainer types that you wear most frequently? Leather',\n",
       " 'Q5.9-Choose UP TO 3 of the trainer types that you wear most frequently? Platform',\n",
       " 'Q5.10-Choose UP TO 3 of the trainer types that you wear most frequently? Designer',\n",
       " 'Q5.97-Choose UP TO 3 of the trainer types that you wear most frequently? None of the above',\n",
       " 'Q5.98-Choose UP TO 3 of the trainer types that you wear most frequently? Not applicable/prefer not to say',\n",
       " \"Q5.99-Choose UP TO 3 of the trainer types that you wear most frequently? I don't know\",\n",
       " 'Q6.1-Purchased mainly for FITNESS or for FASHION?   - Ci5',\n",
       " 'Q6.2-Purchased mainly for FITNESS or for FASHION?   - Ca2',\n",
       " 'Q6.3-Purchased mainly for FITNESS or for FASHION?   - Ci1',\n",
       " 'Q6.4-Purchased mainly for FITNESS or for FASHION?   - Ca5',\n",
       " 'Q6.5-Purchased mainly for FITNESS or for FASHION?   - Ci2',\n",
       " 'Q6.6-Purchased mainly for FITNESS or for FASHION?   - Ca10',\n",
       " 'Q6.7-Purchased mainly for FITNESS or for FASHION?   - Ca11',\n",
       " 'Q6.8-Purchased mainly for FITNESS or for FASHION?   - Ca8',\n",
       " 'Q6.9-Purchased mainly for FITNESS or for FASHION?   - Ci4',\n",
       " 'Q6.10-Purchased mainly for FITNESS or for FASHION?   - Ci12',\n",
       " 'Q6.11-Purchased mainly for FITNESS or for FASHION?   - Ci9',\n",
       " 'Q6.12-Purchased mainly for FITNESS or for FASHION?   - Ca3',\n",
       " 'Q6.13-Purchased mainly for FITNESS or for FASHION?   - Ca7',\n",
       " 'Q6.14-Purchased mainly for FITNESS or for FASHION?   - Ci7',\n",
       " 'Q6.15-Purchased mainly for FITNESS or for FASHION?   - Ci8',\n",
       " 'Q6.16-Purchased mainly for FITNESS or for FASHION?   - Ca12',\n",
       " 'Q6.17-Purchased mainly for FITNESS or for FASHION?   - Ca9',\n",
       " 'Q6.18-Purchased mainly for FITNESS or for FASHION?   - Ci6',\n",
       " 'Q6.19-Purchased mainly for FITNESS or for FASHION?   - Ca1',\n",
       " 'Q6.20-Purchased mainly for FITNESS or for FASHION?   - Ca6',\n",
       " 'Q6.21-Purchased mainly for FITNESS or for FASHION?   - Ci10',\n",
       " 'Q6.22-Purchased mainly for FITNESS or for FASHION?   - Ci11',\n",
       " 'Q6.23-Purchased mainly for FITNESS or for FASHION?   - Ca4',\n",
       " 'Q7.1-Which of the following Trainer brands have you purchased in the last 5 years? Nike',\n",
       " 'Q7.2-Which of the following Trainer brands have you purchased in the last 5 years? adidas',\n",
       " 'Q7.3-Which of the following Trainer brands have you purchased in the last 5 years? Converse',\n",
       " 'Q7.4-Which of the following Trainer brands have you purchased in the last 5 years? Vans',\n",
       " 'Q7.5-Which of the following Trainer brands have you purchased in the last 5 years? Puma',\n",
       " 'Q7.6-Which of the following Trainer brands have you purchased in the last 5 years? Reebok',\n",
       " 'Q7.7-Which of the following Trainer brands have you purchased in the last 5 years? New Balance',\n",
       " 'Q7.8-Which of the following Trainer brands have you purchased in the last 5 years? Fila',\n",
       " 'Q7.9-Which of the following Trainer brands have you purchased in the last 5 years? Asics',\n",
       " 'Q7.10-Which of the following Trainer brands have you purchased in the last 5 years? Under Armour',\n",
       " 'Q7.11-Which of the following Trainer brands have you purchased in the last 5 years? Jordan',\n",
       " 'Q7.12-Which of the following Trainer brands have you purchased in the last 5 years? Timberland',\n",
       " 'Q7.13-Which of the following Trainer brands have you purchased in the last 5 years? Skechers',\n",
       " 'Q7.14-Which of the following Trainer brands have you purchased in the last 5 years? K-Swiss',\n",
       " 'Q7.15-Which of the following Trainer brands have you purchased in the last 5 years? Lacoste',\n",
       " 'Q7.16-Which of the following Trainer brands have you purchased in the last 5 years? Lotto',\n",
       " 'Q7.17-Which of the following Trainer brands have you purchased in the last 5 years? Mizuno',\n",
       " 'Q7.18-Which of the following Trainer brands have you purchased in the last 5 years? Salomon',\n",
       " 'Q7.19-Which of the following Trainer brands have you purchased in the last 5 years? Umbro',\n",
       " 'Q7.20-Which of the following Trainer brands have you purchased in the last 5 years? ecco',\n",
       " 'Q7.21-Which of the following Trainer brands have you purchased in the last 5 years? Diadora',\n",
       " 'Q7.96-Which of the following Trainer brands have you purchased in the last 5 years? Other',\n",
       " 'Q7.97-Which of the following Trainer brands have you purchased in the last 5 years? None of the above',\n",
       " 'Q7.98-Which of the following Trainer brands have you purchased in the last 5 years? Not applicable/prefer not to say',\n",
       " \"Q7.99-Which of the following Trainer brands have you purchased in the last 5 years? I don't know\",\n",
       " 'Q8.1-Hot 👍 or Not 👎 ?  - b1',\n",
       " 'Q8.2-Hot 👍 or Not 👎 ?  - t1',\n",
       " 'Q8.3-Hot 👍 or Not 👎 ?  - t2',\n",
       " 'Q8.4-Hot 👍 or Not 👎 ?  - b2',\n",
       " 'Q8.5-Hot 👍 or Not 👎 ?  - b3',\n",
       " 'Q8.6-Hot 👍 or Not 👎 ?  - t3',\n",
       " 'Q8.7-Hot 👍 or Not 👎 ?  - b4',\n",
       " 'Q8.8-Hot 👍 or Not 👎 ?  - t4',\n",
       " 'Q8.9-Hot 👍 or Not 👎 ?  - b5',\n",
       " 'Q8.10-Hot 👍 or Not 👎 ?  - t5',\n",
       " 'Q8.11-Hot 👍 or Not 👎 ?  - b6',\n",
       " 'Q8.12-Hot 👍 or Not 👎 ?  - t6',\n",
       " 'Q8.13-Hot 👍 or Not 👎 ?  - b7',\n",
       " 'Q8.14-Hot 👍 or Not 👎 ?  - t7',\n",
       " 'Q8.15-Hot 👍 or Not 👎 ?  - b8',\n",
       " 'Q8.16-Hot 👍 or Not 👎 ?  - t8',\n",
       " 'Q8.17-Hot 👍 or Not 👎 ?  - b9',\n",
       " 'Q8.18-Hot 👍 or Not 👎 ?  - t9',\n",
       " 'Q8.19-Hot 👍 or Not 👎 ?  - b10',\n",
       " 'Q8.20-Hot 👍 or Not 👎 ?  - t10',\n",
       " 'Q9.1-Fitness - OR - Fashion?  Which shoe is which? - a6',\n",
       " 'Q9.2-Fitness - OR - Fashion?  Which shoe is which? - i1',\n",
       " 'Q9.3-Fitness - OR - Fashion?  Which shoe is which? - a1',\n",
       " 'Q9.4-Fitness - OR - Fashion?  Which shoe is which? - o1',\n",
       " 'Q9.5-Fitness - OR - Fashion?  Which shoe is which? - i2',\n",
       " 'Q9.6-Fitness - OR - Fashion?  Which shoe is which? - a2',\n",
       " 'Q9.7-Fitness - OR - Fashion?  Which shoe is which? - o2',\n",
       " 'Q9.8-Fitness - OR - Fashion?  Which shoe is which? - a3',\n",
       " 'Q9.9-Fitness - OR - Fashion?  Which shoe is which? - i3',\n",
       " 'Q9.10-Fitness - OR - Fashion?  Which shoe is which? - o3',\n",
       " 'Q9.11-Fitness - OR - Fashion?  Which shoe is which? - o4',\n",
       " 'Q9.12-Fitness - OR - Fashion?  Which shoe is which? - a4',\n",
       " 'Q9.13-Fitness - OR - Fashion?  Which shoe is which? - i4',\n",
       " 'Q9.14-Fitness - OR - Fashion?  Which shoe is which? - i5',\n",
       " 'Q9.15-Fitness - OR - Fashion?  Which shoe is which? - o5',\n",
       " 'Q9.16-Fitness - OR - Fashion?  Which shoe is which? - a5',\n",
       " 'Q9.17-Fitness - OR - Fashion?  Which shoe is which? - a7',\n",
       " 'Q9.18-Fitness - OR - Fashion?  Which shoe is which? - i6',\n",
       " 'Q9.19-Fitness - OR - Fashion?  Which shoe is which? - o6',\n",
       " 'Q9.20-Fitness - OR - Fashion?  Which shoe is which? - i7',\n",
       " 'Q9.21-Fitness - OR - Fashion?  Which shoe is which? - o7',\n",
       " 'Q10-Thank you. Final question, how satisfied were you with the survey experience?',\n",
       " 'Q10-Thank you. Final question, how satisfied were you with the survey experience? (Cleaned /Translated)',\n",
       " 'Q10-Positive sentiment (%)',\n",
       " 'Q10-Neutral sentiment (%)',\n",
       " 'Q10-Negative sentiment (%)',\n",
       " 'Q10-Mixed sentiment (%)',\n",
       " 'Q10-Overall sentiment']"
      ]
     },
     "execution_count": 3,
     "metadata": {},
     "output_type": "execute_result"
    }
   ],
   "source": [
    "df.columns"
   ]
  },
  {
   "cell_type": "code",
   "execution_count": 4,
   "metadata": {
    "colab": {
     "base_uri": "https://localhost:8080/",
     "height": 435
    },
    "id": "JyQ-rwr55Fss",
    "outputId": "2be8df99-6217-499b-a60c-87e609afb008"
   },
   "outputs": [
    {
     "data": {
      "text/html": [
       "<div><style>\n",
       ".dataframe > thead > tr > th,\n",
       ".dataframe > tbody > tr > td {\n",
       "  text-align: right;\n",
       "}\n",
       "</style>\n",
       "<small>shape: (9, 37)</small><table border=\"1\" class=\"dataframe\"><thead><tr><th>describe</th><th>weekstep</th><th>freq</th><th>gender</th><th>age</th><th>sport</th><th>Openness</th><th>Conscientious</th><th>Agreeable</th><th>Neurotic</th><th>Extraverted</th><th>Thrill-Seeking</th><th>Nike</th><th>adidas</th><th>Converse</th><th>Vans</th><th>Puma</th><th>Reebok</th><th>New Balance</th><th>Fila</th><th>Asics</th><th>Under Armour</th><th>Jordan</th><th>Timberland</th><th>Skechers</th><th>K-Swiss</th><th>Lacoste</th><th>Lotto</th><th>Mizuno</th><th>Salomon</th><th>Umbro</th><th>ecco</th><th>Diadora</th><th>Other</th><th>None of the above</th><th>Not applicable/prefer not to say</th><th>I don&#x27;t know</th></tr><tr><td>str</td><td>f64</td><td>f64</td><td>f64</td><td>f64</td><td>f64</td><td>f64</td><td>f64</td><td>f64</td><td>f64</td><td>f64</td><td>f64</td><td>f64</td><td>f64</td><td>f64</td><td>f64</td><td>f64</td><td>f64</td><td>f64</td><td>f64</td><td>f64</td><td>f64</td><td>f64</td><td>f64</td><td>f64</td><td>f64</td><td>f64</td><td>f64</td><td>f64</td><td>f64</td><td>f64</td><td>f64</td><td>f64</td><td>f64</td><td>f64</td><td>f64</td><td>f64</td></tr></thead><tbody><tr><td>&quot;count&quot;</td><td>839.0</td><td>839.0</td><td>839.0</td><td>839.0</td><td>839.0</td><td>839.0</td><td>839.0</td><td>839.0</td><td>839.0</td><td>839.0</td><td>839.0</td><td>839.0</td><td>839.0</td><td>839.0</td><td>839.0</td><td>839.0</td><td>839.0</td><td>839.0</td><td>839.0</td><td>839.0</td><td>839.0</td><td>839.0</td><td>839.0</td><td>839.0</td><td>839.0</td><td>839.0</td><td>839.0</td><td>839.0</td><td>839.0</td><td>839.0</td><td>839.0</td><td>839.0</td><td>839.0</td><td>839.0</td><td>839.0</td><td>839.0</td></tr><tr><td>&quot;null_count&quot;</td><td>1.0</td><td>0.0</td><td>0.0</td><td>0.0</td><td>0.0</td><td>4.0</td><td>4.0</td><td>4.0</td><td>4.0</td><td>4.0</td><td>4.0</td><td>0.0</td><td>0.0</td><td>0.0</td><td>0.0</td><td>0.0</td><td>0.0</td><td>0.0</td><td>0.0</td><td>0.0</td><td>0.0</td><td>0.0</td><td>0.0</td><td>0.0</td><td>0.0</td><td>0.0</td><td>0.0</td><td>0.0</td><td>0.0</td><td>0.0</td><td>0.0</td><td>0.0</td><td>0.0</td><td>0.0</td><td>0.0</td><td>0.0</td></tr><tr><td>&quot;mean&quot;</td><td>27272.867542</td><td>4.756853</td><td>1.613826</td><td>35.282479</td><td>0.395709</td><td>58.353293</td><td>59.640719</td><td>69.962575</td><td>54.258982</td><td>45.269461</td><td>45.943677</td><td>0.656734</td><td>0.578069</td><td>0.337306</td><td>0.290822</td><td>0.194279</td><td>0.139452</td><td>0.156138</td><td>0.073897</td><td>0.082241</td><td>0.087008</td><td>0.076281</td><td>0.057211</td><td>0.178784</td><td>0.015495</td><td>0.047676</td><td>0.007151</td><td>0.007151</td><td>0.026222</td><td>0.023838</td><td>0.011919</td><td>0.016687</td><td>0.137068</td><td>0.033373</td><td>0.009535</td><td>0.007151</td></tr><tr><td>&quot;std&quot;</td><td>23018.151813</td><td>1.593692</td><td>0.487162</td><td>8.812151</td><td>0.489294</td><td>14.340055</td><td>19.464842</td><td>19.173097</td><td>21.785706</td><td>23.017594</td><td>20.685762</td><td>0.475082</td><td>0.494162</td><td>0.473072</td><td>0.454413</td><td>0.395881</td><td>0.346624</td><td>0.363203</td><td>0.26176</td><td>0.274895</td><td>0.282015</td><td>0.265606</td><td>0.232384</td><td>0.3834</td><td>0.123583</td><td>0.213206</td><td>0.084313</td><td>0.084313</td><td>0.159889</td><td>0.152635</td><td>0.108586</td><td>0.12817</td><td>0.344124</td><td>0.179716</td><td>0.097239</td><td>0.084313</td></tr><tr><td>&quot;min&quot;</td><td>0.0</td><td>1.0</td><td>1.0</td><td>18.0</td><td>0.0</td><td>6.25</td><td>6.25</td><td>6.25</td><td>0.0</td><td>0.0</td><td>0.0</td><td>0.0</td><td>0.0</td><td>0.0</td><td>0.0</td><td>0.0</td><td>0.0</td><td>0.0</td><td>0.0</td><td>0.0</td><td>0.0</td><td>0.0</td><td>0.0</td><td>0.0</td><td>0.0</td><td>0.0</td><td>0.0</td><td>0.0</td><td>0.0</td><td>0.0</td><td>0.0</td><td>0.0</td><td>0.0</td><td>0.0</td><td>0.0</td><td>0.0</td></tr><tr><td>&quot;max&quot;</td><td>143215.0</td><td>6.0</td><td>2.0</td><td>55.0</td><td>1.0</td><td>93.75</td><td>100.0</td><td>100.0</td><td>100.0</td><td>100.0</td><td>100.0</td><td>1.0</td><td>1.0</td><td>1.0</td><td>1.0</td><td>1.0</td><td>1.0</td><td>1.0</td><td>1.0</td><td>1.0</td><td>1.0</td><td>1.0</td><td>1.0</td><td>1.0</td><td>1.0</td><td>1.0</td><td>1.0</td><td>1.0</td><td>1.0</td><td>1.0</td><td>1.0</td><td>1.0</td><td>1.0</td><td>1.0</td><td>1.0</td><td>1.0</td></tr><tr><td>&quot;median&quot;</td><td>23954.0</td><td>6.0</td><td>2.0</td><td>35.0</td><td>0.0</td><td>62.5</td><td>62.5</td><td>68.75</td><td>56.25</td><td>43.75</td><td>47.22</td><td>1.0</td><td>1.0</td><td>0.0</td><td>0.0</td><td>0.0</td><td>0.0</td><td>0.0</td><td>0.0</td><td>0.0</td><td>0.0</td><td>0.0</td><td>0.0</td><td>0.0</td><td>0.0</td><td>0.0</td><td>0.0</td><td>0.0</td><td>0.0</td><td>0.0</td><td>0.0</td><td>0.0</td><td>0.0</td><td>0.0</td><td>0.0</td><td>0.0</td></tr><tr><td>&quot;25%&quot;</td><td>8231.0</td><td>3.0</td><td>1.0</td><td>29.0</td><td>null</td><td>50.0</td><td>43.75</td><td>56.25</td><td>37.5</td><td>25.0</td><td>31.0</td><td>null</td><td>null</td><td>null</td><td>null</td><td>null</td><td>null</td><td>null</td><td>null</td><td>null</td><td>null</td><td>null</td><td>null</td><td>null</td><td>null</td><td>null</td><td>null</td><td>null</td><td>null</td><td>null</td><td>null</td><td>null</td><td>null</td><td>null</td><td>null</td><td>null</td></tr><tr><td>&quot;75%&quot;</td><td>42110.0</td><td>6.0</td><td>2.0</td><td>42.0</td><td>null</td><td>68.75</td><td>75.0</td><td>87.5</td><td>68.75</td><td>62.5</td><td>61.0</td><td>null</td><td>null</td><td>null</td><td>null</td><td>null</td><td>null</td><td>null</td><td>null</td><td>null</td><td>null</td><td>null</td><td>null</td><td>null</td><td>null</td><td>null</td><td>null</td><td>null</td><td>null</td><td>null</td><td>null</td><td>null</td><td>null</td><td>null</td><td>null</td><td>null</td></tr></tbody></table></div>"
      ],
      "text/plain": [
       "shape: (9, 37)\n",
       "┌────────────┬──────────────┬──────────┬──────────┬───┬──────────┬──────────────┬──────────────┬──────────────┐\n",
       "│ describe   ┆ weekstep     ┆ freq     ┆ gender   ┆ … ┆ Other    ┆ None of the  ┆ Not applicab ┆ I don't know │\n",
       "│ ---        ┆ ---          ┆ ---      ┆ ---      ┆   ┆ ---      ┆ above        ┆ le/prefer    ┆ ---          │\n",
       "│ str        ┆ f64          ┆ f64      ┆ f64      ┆   ┆ f64      ┆ ---          ┆ not to say   ┆ f64          │\n",
       "│            ┆              ┆          ┆          ┆   ┆          ┆ f64          ┆ ---          ┆              │\n",
       "│            ┆              ┆          ┆          ┆   ┆          ┆              ┆ f64          ┆              │\n",
       "╞════════════╪══════════════╪══════════╪══════════╪═══╪══════════╪══════════════╪══════════════╪══════════════╡\n",
       "│ count      ┆ 839.0        ┆ 839.0    ┆ 839.0    ┆ … ┆ 839.0    ┆ 839.0        ┆ 839.0        ┆ 839.0        │\n",
       "│ null_count ┆ 1.0          ┆ 0.0      ┆ 0.0      ┆ … ┆ 0.0      ┆ 0.0          ┆ 0.0          ┆ 0.0          │\n",
       "│ mean       ┆ 27272.867542 ┆ 4.756853 ┆ 1.613826 ┆ … ┆ 0.137068 ┆ 0.033373     ┆ 0.009535     ┆ 0.007151     │\n",
       "│ std        ┆ 23018.151813 ┆ 1.593692 ┆ 0.487162 ┆ … ┆ 0.344124 ┆ 0.179716     ┆ 0.097239     ┆ 0.084313     │\n",
       "│ min        ┆ 0.0          ┆ 1.0      ┆ 1.0      ┆ … ┆ 0.0      ┆ 0.0          ┆ 0.0          ┆ 0.0          │\n",
       "│ max        ┆ 143215.0     ┆ 6.0      ┆ 2.0      ┆ … ┆ 1.0      ┆ 1.0          ┆ 1.0          ┆ 1.0          │\n",
       "│ median     ┆ 23954.0      ┆ 6.0      ┆ 2.0      ┆ … ┆ 0.0      ┆ 0.0          ┆ 0.0          ┆ 0.0          │\n",
       "│ 25%        ┆ 8231.0       ┆ 3.0      ┆ 1.0      ┆ … ┆ null     ┆ null         ┆ null         ┆ null         │\n",
       "│ 75%        ┆ 42110.0      ┆ 6.0      ┆ 2.0      ┆ … ┆ null     ┆ null         ┆ null         ┆ null         │\n",
       "└────────────┴──────────────┴──────────┴──────────┴───┴──────────┴──────────────┴──────────────┴──────────────┘"
      ]
     },
     "execution_count": 4,
     "metadata": {},
     "output_type": "execute_result"
    }
   ],
   "source": [
    "#can I spot runners?\n",
    "#the main select to create the dataframe\n",
    "train_cols = [(col,col.split(\"?\")[1].strip()) for col in df.columns if col[:2]==\"Q7\"]\n",
    "df_running = df.select([pl.col('Average Weekly Step Count').cast(pl.UInt32).alias(\"weekstep\"),\n",
    "                        pl.col('Running Frequency').cast(pl.UInt32).alias(\"freq\"),\n",
    "                        pl.col('Gender').cast(pl.UInt8).alias(\"gender\"),\n",
    "                        pl.col('Age').cast(pl.UInt8).alias(\"age\"),\n",
    "                        pl.col('50 Apps Installed on Smartphone-Fitness or sports').cast(pl.Boolean).alias(\"sport\"),\n",
    "                        pl.col([\n",
    " 'Openness',\n",
    " 'Conscientious',\n",
    " 'Agreeable',\n",
    " 'Neurotic',\n",
    " 'Extraverted',\n",
    " 'Thrill-Seeking'])]+\n",
    "                        [pl.col(t_in).alias(t_out).cast(pl.Boolean) for t_in,t_out in train_cols]\n",
    "                       )\n",
    "#sort functionality\n",
    "df_running = df_running.sort(\"weekstep\")\n",
    "#main summariser\n",
    "df_running.describe()"
   ]
  },
  {
   "cell_type": "code",
   "execution_count": 5,
   "metadata": {},
   "outputs": [
    {
     "data": {
      "text/plain": [
       "1"
      ]
     },
     "execution_count": 5,
     "metadata": {},
     "output_type": "execute_result"
    }
   ],
   "source": [
    "#can use an array index\n",
    "df_running[1,1]"
   ]
  },
  {
   "cell_type": "code",
   "execution_count": 6,
   "metadata": {
    "colab": {
     "base_uri": "https://localhost:8080/",
     "height": 161
    },
    "id": "53kcgcgzbTdK",
    "outputId": "464edc56-2770-4e9c-8a00-0e551436da52"
   },
   "outputs": [
    {
     "data": {
      "text/html": [
       "<div><style>\n",
       ".dataframe > thead > tr > th,\n",
       ".dataframe > tbody > tr > td {\n",
       "  text-align: right;\n",
       "}\n",
       "</style>\n",
       "<small>shape: (2, 2)</small><table border=\"1\" class=\"dataframe\"><thead><tr><th>gender</th><th>counts</th></tr><tr><td>u8</td><td>u32</td></tr></thead><tbody><tr><td>1</td><td>324</td></tr><tr><td>2</td><td>515</td></tr></tbody></table></div>"
      ],
      "text/plain": [
       "shape: (2, 2)\n",
       "┌────────┬────────┐\n",
       "│ gender ┆ counts │\n",
       "│ ---    ┆ ---    │\n",
       "│ u8     ┆ u32    │\n",
       "╞════════╪════════╡\n",
       "│ 1      ┆ 324    │\n",
       "│ 2      ┆ 515    │\n",
       "└────────┴────────┘"
      ]
     },
     "execution_count": 6,
     "metadata": {},
     "output_type": "execute_result"
    }
   ],
   "source": [
    "#I can never remember value_counts or count_values!\n",
    "df_running[\"gender\"].value_counts()"
   ]
  },
  {
   "cell_type": "code",
   "execution_count": 7,
   "metadata": {
    "colab": {
     "base_uri": "https://localhost:8080/",
     "height": 224
    },
    "id": "_rEjLYiNA5vO",
    "outputId": "3fe73692-2910-4393-abac-355bfc721c14"
   },
   "outputs": [
    {
     "data": {
      "text/html": [
       "<div><style>\n",
       ".dataframe > thead > tr > th,\n",
       ".dataframe > tbody > tr > td {\n",
       "  text-align: right;\n",
       "}\n",
       "</style>\n",
       "<small>shape: (4, 2)</small><table border=\"1\" class=\"dataframe\"><thead><tr><th>thrill</th><th>weekstep</th></tr><tr><td>i64</td><td>f64</td></tr></thead><tbody><tr><td>3</td><td>29429.816327</td></tr><tr><td>1</td><td>22710.175966</td></tr><tr><td>null</td><td>39734.75</td></tr><tr><td>2</td><td>28709.18</td></tr></tbody></table></div>"
      ],
      "text/plain": [
       "shape: (4, 2)\n",
       "┌────────┬──────────────┐\n",
       "│ thrill ┆ weekstep     │\n",
       "│ ---    ┆ ---          │\n",
       "│ i64    ┆ f64          │\n",
       "╞════════╪══════════════╡\n",
       "│ 3      ┆ 29429.816327 │\n",
       "│ 1      ┆ 22710.175966 │\n",
       "│ null   ┆ 39734.75     │\n",
       "│ 2      ┆ 28709.18     │\n",
       "└────────┴──────────────┘"
      ]
     },
     "execution_count": 7,
     "metadata": {},
     "output_type": "execute_result"
    }
   ],
   "source": [
    "#applying a function using (wait for it...) APPLY\n",
    "def level(x):\n",
    "  if 33 < x < 66:\n",
    "    return 2\n",
    "  elif x < 33:\n",
    "    return 1\n",
    "  elif x > 66:\n",
    "    return 3 \n",
    "    \n",
    "df_running = df_running.with_columns([pl.col(\"Thrill-Seeking\").apply(level).alias(\"thrill\"),\n",
    "                                      pl.col('Conscientious').apply(level).alias(\"con\"),\n",
    "                                      pl.col('Extraverted').apply(level).alias(\"extra\")])\n",
    "\n",
    "df_running.groupby(\"thrill\").agg([pl.col(\"weekstep\").mean()])"
   ]
  },
  {
   "cell_type": "code",
   "execution_count": 8,
   "metadata": {
    "colab": {
     "base_uri": "https://localhost:8080/",
     "height": 224
    },
    "id": "8OqlPEoTErXn",
    "outputId": "5ec73ac4-9a64-4ac0-b965-372513022e7f"
   },
   "outputs": [
    {
     "data": {
      "text/html": [
       "<div><style>\n",
       ".dataframe > thead > tr > th,\n",
       ".dataframe > tbody > tr > td {\n",
       "  text-align: right;\n",
       "}\n",
       "</style>\n",
       "<small>shape: (4, 2)</small><table border=\"1\" class=\"dataframe\"><thead><tr><th>con</th><th>weekstep</th></tr><tr><td>i64</td><td>f64</td></tr></thead><tbody><tr><td>null</td><td>44960.0</td></tr><tr><td>2</td><td>27440.784543</td></tr><tr><td>1</td><td>22945.4875</td></tr><tr><td>3</td><td>27895.929664</td></tr></tbody></table></div>"
      ],
      "text/plain": [
       "shape: (4, 2)\n",
       "┌──────┬──────────────┐\n",
       "│ con  ┆ weekstep     │\n",
       "│ ---  ┆ ---          │\n",
       "│ i64  ┆ f64          │\n",
       "╞══════╪══════════════╡\n",
       "│ null ┆ 44960.0      │\n",
       "│ 2    ┆ 27440.784543 │\n",
       "│ 1    ┆ 22945.4875   │\n",
       "│ 3    ┆ 27895.929664 │\n",
       "└──────┴──────────────┘"
      ]
     },
     "execution_count": 8,
     "metadata": {},
     "output_type": "execute_result"
    }
   ],
   "source": [
    "#do runner of different conscientiousness do different weekely running steps\n",
    "\n",
    "df_running.groupby(\"con\").agg([pl.col(\"weekstep\").mean()])"
   ]
  },
  {
   "cell_type": "code",
   "execution_count": 9,
   "metadata": {
    "colab": {
     "base_uri": "https://localhost:8080/",
     "height": 224
    },
    "id": "-CGhffbSExVr",
    "outputId": "b55b024b-230f-40e7-ad6a-3c17f4381ab6"
   },
   "outputs": [
    {
     "data": {
      "text/html": [
       "<div><style>\n",
       ".dataframe > thead > tr > th,\n",
       ".dataframe > tbody > tr > td {\n",
       "  text-align: right;\n",
       "}\n",
       "</style>\n",
       "<small>shape: (4, 2)</small><table border=\"1\" class=\"dataframe\"><thead><tr><th>extra</th><th>weekstep</th></tr><tr><td>i64</td><td>f64</td></tr></thead><tbody><tr><td>2</td><td>27763.916244</td></tr><tr><td>1</td><td>25879.90681</td></tr><tr><td>null</td><td>44960.0</td></tr><tr><td>3</td><td>28045.627329</td></tr></tbody></table></div>"
      ],
      "text/plain": [
       "shape: (4, 2)\n",
       "┌───────┬──────────────┐\n",
       "│ extra ┆ weekstep     │\n",
       "│ ---   ┆ ---          │\n",
       "│ i64   ┆ f64          │\n",
       "╞═══════╪══════════════╡\n",
       "│ 2     ┆ 27763.916244 │\n",
       "│ 1     ┆ 25879.90681  │\n",
       "│ null  ┆ 44960.0      │\n",
       "│ 3     ┆ 28045.627329 │\n",
       "└───────┴──────────────┘"
      ]
     },
     "execution_count": 9,
     "metadata": {},
     "output_type": "execute_result"
    }
   ],
   "source": [
    "#smae for extroverted people\n",
    "\n",
    "df_running.groupby(\"extra\").agg([pl.col(\"weekstep\").mean()])"
   ]
  },
  {
   "cell_type": "code",
   "execution_count": 10,
   "metadata": {
    "colab": {
     "base_uri": "https://localhost:8080/",
     "height": 435
    },
    "id": "pfTZu8HE9_Y7",
    "outputId": "7ddcdfbd-9816-4762-ea3e-b544f41c3237"
   },
   "outputs": [
    {
     "data": {
      "text/html": [
       "<div><style>\n",
       ".dataframe > thead > tr > th,\n",
       ".dataframe > tbody > tr > td {\n",
       "  text-align: right;\n",
       "}\n",
       "</style>\n",
       "<small>shape: (9, 40)</small><table border=\"1\" class=\"dataframe\"><thead><tr><th>describe</th><th>weekstep</th><th>freq</th><th>gender</th><th>age</th><th>sport</th><th>Openness</th><th>Conscientious</th><th>Agreeable</th><th>Neurotic</th><th>Extraverted</th><th>Thrill-Seeking</th><th>Nike</th><th>adidas</th><th>Converse</th><th>Vans</th><th>Puma</th><th>Reebok</th><th>New Balance</th><th>Fila</th><th>Asics</th><th>Under Armour</th><th>Jordan</th><th>Timberland</th><th>Skechers</th><th>K-Swiss</th><th>Lacoste</th><th>Lotto</th><th>Mizuno</th><th>Salomon</th><th>Umbro</th><th>ecco</th><th>Diadora</th><th>Other</th><th>None of the above</th><th>Not applicable/prefer not to say</th><th>I don&#x27;t know</th><th>thrill</th><th>con</th><th>extra</th></tr><tr><td>str</td><td>f64</td><td>f64</td><td>f64</td><td>f64</td><td>f64</td><td>f64</td><td>f64</td><td>f64</td><td>f64</td><td>f64</td><td>f64</td><td>f64</td><td>f64</td><td>f64</td><td>f64</td><td>f64</td><td>f64</td><td>f64</td><td>f64</td><td>f64</td><td>f64</td><td>f64</td><td>f64</td><td>f64</td><td>f64</td><td>f64</td><td>f64</td><td>f64</td><td>f64</td><td>f64</td><td>f64</td><td>f64</td><td>f64</td><td>f64</td><td>f64</td><td>f64</td><td>f64</td><td>f64</td><td>f64</td></tr></thead><tbody><tr><td>&quot;count&quot;</td><td>701.0</td><td>701.0</td><td>701.0</td><td>701.0</td><td>701.0</td><td>701.0</td><td>701.0</td><td>701.0</td><td>701.0</td><td>701.0</td><td>701.0</td><td>701.0</td><td>701.0</td><td>701.0</td><td>701.0</td><td>701.0</td><td>701.0</td><td>701.0</td><td>701.0</td><td>701.0</td><td>701.0</td><td>701.0</td><td>701.0</td><td>701.0</td><td>701.0</td><td>701.0</td><td>701.0</td><td>701.0</td><td>701.0</td><td>701.0</td><td>701.0</td><td>701.0</td><td>701.0</td><td>701.0</td><td>701.0</td><td>701.0</td><td>701.0</td><td>701.0</td><td>701.0</td></tr><tr><td>&quot;null_count&quot;</td><td>0.0</td><td>0.0</td><td>0.0</td><td>0.0</td><td>0.0</td><td>4.0</td><td>4.0</td><td>4.0</td><td>4.0</td><td>4.0</td><td>4.0</td><td>0.0</td><td>0.0</td><td>0.0</td><td>0.0</td><td>0.0</td><td>0.0</td><td>0.0</td><td>0.0</td><td>0.0</td><td>0.0</td><td>0.0</td><td>0.0</td><td>0.0</td><td>0.0</td><td>0.0</td><td>0.0</td><td>0.0</td><td>0.0</td><td>0.0</td><td>0.0</td><td>0.0</td><td>0.0</td><td>0.0</td><td>0.0</td><td>0.0</td><td>8.0</td><td>4.0</td><td>4.0</td></tr><tr><td>&quot;mean&quot;</td><td>32602.942939</td><td>4.814551</td><td>1.617689</td><td>34.947218</td><td>0.413695</td><td>58.473816</td><td>59.756098</td><td>70.220588</td><td>54.151722</td><td>45.588235</td><td>46.513702</td><td>0.673324</td><td>0.582026</td><td>0.350927</td><td>0.299572</td><td>0.188302</td><td>0.138374</td><td>0.166904</td><td>0.071327</td><td>0.088445</td><td>0.088445</td><td>0.078459</td><td>0.059914</td><td>0.172611</td><td>0.017118</td><td>0.042796</td><td>0.005706</td><td>0.005706</td><td>0.027104</td><td>0.021398</td><td>0.014265</td><td>0.017118</td><td>0.1398</td><td>0.029957</td><td>0.009986</td><td>0.007133</td><td>1.916306</td><td>2.302726</td><td>1.863702</td></tr><tr><td>&quot;std&quot;</td><td>21436.120382</td><td>1.5436</td><td>0.486299</td><td>8.846876</td><td>0.492847</td><td>14.33966</td><td>19.344703</td><td>19.254194</td><td>22.081131</td><td>22.957496</td><td>20.422445</td><td>0.469333</td><td>0.493578</td><td>0.477601</td><td>0.458398</td><td>0.391233</td><td>0.345538</td><td>0.373157</td><td>0.257553</td><td>0.284144</td><td>0.284144</td><td>0.269085</td><td>0.237498</td><td>0.37818</td><td>0.129805</td><td>0.202541</td><td>0.075377</td><td>0.075377</td><td>0.162503</td><td>0.14481</td><td>0.118667</td><td>0.129805</td><td>0.347027</td><td>0.170591</td><td>0.099499</td><td>0.084214</td><td>0.66405</td><td>0.631005</td><td>0.717246</td></tr><tr><td>&quot;min&quot;</td><td>433.0</td><td>1.0</td><td>1.0</td><td>18.0</td><td>0.0</td><td>6.25</td><td>6.25</td><td>6.25</td><td>0.0</td><td>0.0</td><td>0.0</td><td>0.0</td><td>0.0</td><td>0.0</td><td>0.0</td><td>0.0</td><td>0.0</td><td>0.0</td><td>0.0</td><td>0.0</td><td>0.0</td><td>0.0</td><td>0.0</td><td>0.0</td><td>0.0</td><td>0.0</td><td>0.0</td><td>0.0</td><td>0.0</td><td>0.0</td><td>0.0</td><td>0.0</td><td>0.0</td><td>0.0</td><td>0.0</td><td>0.0</td><td>1.0</td><td>1.0</td><td>1.0</td></tr><tr><td>&quot;max&quot;</td><td>143215.0</td><td>6.0</td><td>2.0</td><td>55.0</td><td>1.0</td><td>93.75</td><td>100.0</td><td>100.0</td><td>100.0</td><td>100.0</td><td>100.0</td><td>1.0</td><td>1.0</td><td>1.0</td><td>1.0</td><td>1.0</td><td>1.0</td><td>1.0</td><td>1.0</td><td>1.0</td><td>1.0</td><td>1.0</td><td>1.0</td><td>1.0</td><td>1.0</td><td>1.0</td><td>1.0</td><td>1.0</td><td>1.0</td><td>1.0</td><td>1.0</td><td>1.0</td><td>1.0</td><td>1.0</td><td>1.0</td><td>1.0</td><td>3.0</td><td>3.0</td><td>3.0</td></tr><tr><td>&quot;median&quot;</td><td>29133.0</td><td>6.0</td><td>2.0</td><td>34.0</td><td>0.0</td><td>62.5</td><td>62.5</td><td>68.75</td><td>56.25</td><td>43.75</td><td>47.22</td><td>1.0</td><td>1.0</td><td>0.0</td><td>0.0</td><td>0.0</td><td>0.0</td><td>0.0</td><td>0.0</td><td>0.0</td><td>0.0</td><td>0.0</td><td>0.0</td><td>0.0</td><td>0.0</td><td>0.0</td><td>0.0</td><td>0.0</td><td>0.0</td><td>0.0</td><td>0.0</td><td>0.0</td><td>0.0</td><td>0.0</td><td>0.0</td><td>0.0</td><td>2.0</td><td>2.0</td><td>2.0</td></tr><tr><td>&quot;25%&quot;</td><td>16234.0</td><td>3.0</td><td>1.0</td><td>28.0</td><td>null</td><td>50.0</td><td>43.75</td><td>56.25</td><td>37.5</td><td>31.25</td><td>31.94</td><td>null</td><td>null</td><td>null</td><td>null</td><td>null</td><td>null</td><td>null</td><td>null</td><td>null</td><td>null</td><td>null</td><td>null</td><td>null</td><td>null</td><td>null</td><td>null</td><td>null</td><td>null</td><td>null</td><td>null</td><td>null</td><td>null</td><td>null</td><td>null</td><td>null</td><td>1.0</td><td>2.0</td><td>1.0</td></tr><tr><td>&quot;75%&quot;</td><td>44669.0</td><td>6.0</td><td>2.0</td><td>42.0</td><td>null</td><td>68.75</td><td>75.0</td><td>87.5</td><td>68.75</td><td>62.5</td><td>61.11</td><td>null</td><td>null</td><td>null</td><td>null</td><td>null</td><td>null</td><td>null</td><td>null</td><td>null</td><td>null</td><td>null</td><td>null</td><td>null</td><td>null</td><td>null</td><td>null</td><td>null</td><td>null</td><td>null</td><td>null</td><td>null</td><td>null</td><td>null</td><td>null</td><td>null</td><td>2.0</td><td>3.0</td><td>2.0</td></tr></tbody></table></div>"
      ],
      "text/plain": [
       "shape: (9, 40)\n",
       "┌────────────┬──────────────┬──────────┬──────────┬───┬──────────────┬──────────┬──────────┬──────────┐\n",
       "│ describe   ┆ weekstep     ┆ freq     ┆ gender   ┆ … ┆ I don't know ┆ thrill   ┆ con      ┆ extra    │\n",
       "│ ---        ┆ ---          ┆ ---      ┆ ---      ┆   ┆ ---          ┆ ---      ┆ ---      ┆ ---      │\n",
       "│ str        ┆ f64          ┆ f64      ┆ f64      ┆   ┆ f64          ┆ f64      ┆ f64      ┆ f64      │\n",
       "╞════════════╪══════════════╪══════════╪══════════╪═══╪══════════════╪══════════╪══════════╪══════════╡\n",
       "│ count      ┆ 701.0        ┆ 701.0    ┆ 701.0    ┆ … ┆ 701.0        ┆ 701.0    ┆ 701.0    ┆ 701.0    │\n",
       "│ null_count ┆ 0.0          ┆ 0.0      ┆ 0.0      ┆ … ┆ 0.0          ┆ 8.0      ┆ 4.0      ┆ 4.0      │\n",
       "│ mean       ┆ 32602.942939 ┆ 4.814551 ┆ 1.617689 ┆ … ┆ 0.007133     ┆ 1.916306 ┆ 2.302726 ┆ 1.863702 │\n",
       "│ std        ┆ 21436.120382 ┆ 1.5436   ┆ 0.486299 ┆ … ┆ 0.084214     ┆ 0.66405  ┆ 0.631005 ┆ 0.717246 │\n",
       "│ min        ┆ 433.0        ┆ 1.0      ┆ 1.0      ┆ … ┆ 0.0          ┆ 1.0      ┆ 1.0      ┆ 1.0      │\n",
       "│ max        ┆ 143215.0     ┆ 6.0      ┆ 2.0      ┆ … ┆ 1.0          ┆ 3.0      ┆ 3.0      ┆ 3.0      │\n",
       "│ median     ┆ 29133.0      ┆ 6.0      ┆ 2.0      ┆ … ┆ 0.0          ┆ 2.0      ┆ 2.0      ┆ 2.0      │\n",
       "│ 25%        ┆ 16234.0      ┆ 3.0      ┆ 1.0      ┆ … ┆ null         ┆ 1.0      ┆ 2.0      ┆ 1.0      │\n",
       "│ 75%        ┆ 44669.0      ┆ 6.0      ┆ 2.0      ┆ … ┆ null         ┆ 2.0      ┆ 3.0      ┆ 2.0      │\n",
       "└────────────┴──────────────┴──────────┴──────────┴───┴──────────────┴──────────┴──────────┴──────────┘"
      ]
     },
     "execution_count": 10,
     "metadata": {},
     "output_type": "execute_result"
    }
   ],
   "source": [
    "#actually should we get rid of those at zero becas\n",
    "df_running.filter(pl.col(\"weekstep\")!=0).describe()"
   ]
  },
  {
   "cell_type": "code",
   "execution_count": 11,
   "metadata": {
    "colab": {
     "base_uri": "https://localhost:8080/",
     "height": 417
    },
    "id": "yZLTz1ag7EFY",
    "outputId": "f833030f-5ba4-440f-a470-c7a669575112"
   },
   "outputs": [
    {
     "data": {
      "text/html": [
       "<div class=\"bk-root\">\n",
       "        <a href=\"https://bokeh.org\" target=\"_blank\" class=\"bk-logo bk-logo-small bk-logo-notebook\"></a>\n",
       "        <span id=\"1001\">Loading BokehJS ...</span>\n",
       "    </div>\n"
      ]
     },
     "metadata": {},
     "output_type": "display_data"
    },
    {
     "data": {
      "application/javascript": [
       "(function(root) {\n",
       "  function now() {\n",
       "    return new Date();\n",
       "  }\n",
       "\n",
       "  const force = true;\n",
       "\n",
       "  if (typeof root._bokeh_onload_callbacks === \"undefined\" || force === true) {\n",
       "    root._bokeh_onload_callbacks = [];\n",
       "    root._bokeh_is_loading = undefined;\n",
       "  }\n",
       "\n",
       "const JS_MIME_TYPE = 'application/javascript';\n",
       "  const HTML_MIME_TYPE = 'text/html';\n",
       "  const EXEC_MIME_TYPE = 'application/vnd.bokehjs_exec.v0+json';\n",
       "  const CLASS_NAME = 'output_bokeh rendered_html';\n",
       "\n",
       "  /**\n",
       "   * Render data to the DOM node\n",
       "   */\n",
       "  function render(props, node) {\n",
       "    const script = document.createElement(\"script\");\n",
       "    node.appendChild(script);\n",
       "  }\n",
       "\n",
       "  /**\n",
       "   * Handle when an output is cleared or removed\n",
       "   */\n",
       "  function handleClearOutput(event, handle) {\n",
       "    const cell = handle.cell;\n",
       "\n",
       "    const id = cell.output_area._bokeh_element_id;\n",
       "    const server_id = cell.output_area._bokeh_server_id;\n",
       "    // Clean up Bokeh references\n",
       "    if (id != null && id in Bokeh.index) {\n",
       "      Bokeh.index[id].model.document.clear();\n",
       "      delete Bokeh.index[id];\n",
       "    }\n",
       "\n",
       "    if (server_id !== undefined) {\n",
       "      // Clean up Bokeh references\n",
       "      const cmd_clean = \"from bokeh.io.state import curstate; print(curstate().uuid_to_server['\" + server_id + \"'].get_sessions()[0].document.roots[0]._id)\";\n",
       "      cell.notebook.kernel.execute(cmd_clean, {\n",
       "        iopub: {\n",
       "          output: function(msg) {\n",
       "            const id = msg.content.text.trim();\n",
       "            if (id in Bokeh.index) {\n",
       "              Bokeh.index[id].model.document.clear();\n",
       "              delete Bokeh.index[id];\n",
       "            }\n",
       "          }\n",
       "        }\n",
       "      });\n",
       "      // Destroy server and session\n",
       "      const cmd_destroy = \"import bokeh.io.notebook as ion; ion.destroy_server('\" + server_id + \"')\";\n",
       "      cell.notebook.kernel.execute(cmd_destroy);\n",
       "    }\n",
       "  }\n",
       "\n",
       "  /**\n",
       "   * Handle when a new output is added\n",
       "   */\n",
       "  function handleAddOutput(event, handle) {\n",
       "    const output_area = handle.output_area;\n",
       "    const output = handle.output;\n",
       "\n",
       "    // limit handleAddOutput to display_data with EXEC_MIME_TYPE content only\n",
       "    if ((output.output_type != \"display_data\") || (!Object.prototype.hasOwnProperty.call(output.data, EXEC_MIME_TYPE))) {\n",
       "      return\n",
       "    }\n",
       "\n",
       "    const toinsert = output_area.element.find(\".\" + CLASS_NAME.split(' ')[0]);\n",
       "\n",
       "    if (output.metadata[EXEC_MIME_TYPE][\"id\"] !== undefined) {\n",
       "      toinsert[toinsert.length - 1].firstChild.textContent = output.data[JS_MIME_TYPE];\n",
       "      // store reference to embed id on output_area\n",
       "      output_area._bokeh_element_id = output.metadata[EXEC_MIME_TYPE][\"id\"];\n",
       "    }\n",
       "    if (output.metadata[EXEC_MIME_TYPE][\"server_id\"] !== undefined) {\n",
       "      const bk_div = document.createElement(\"div\");\n",
       "      bk_div.innerHTML = output.data[HTML_MIME_TYPE];\n",
       "      const script_attrs = bk_div.children[0].attributes;\n",
       "      for (let i = 0; i < script_attrs.length; i++) {\n",
       "        toinsert[toinsert.length - 1].firstChild.setAttribute(script_attrs[i].name, script_attrs[i].value);\n",
       "        toinsert[toinsert.length - 1].firstChild.textContent = bk_div.children[0].textContent\n",
       "      }\n",
       "      // store reference to server id on output_area\n",
       "      output_area._bokeh_server_id = output.metadata[EXEC_MIME_TYPE][\"server_id\"];\n",
       "    }\n",
       "  }\n",
       "\n",
       "  function register_renderer(events, OutputArea) {\n",
       "\n",
       "    function append_mime(data, metadata, element) {\n",
       "      // create a DOM node to render to\n",
       "      const toinsert = this.create_output_subarea(\n",
       "        metadata,\n",
       "        CLASS_NAME,\n",
       "        EXEC_MIME_TYPE\n",
       "      );\n",
       "      this.keyboard_manager.register_events(toinsert);\n",
       "      // Render to node\n",
       "      const props = {data: data, metadata: metadata[EXEC_MIME_TYPE]};\n",
       "      render(props, toinsert[toinsert.length - 1]);\n",
       "      element.append(toinsert);\n",
       "      return toinsert\n",
       "    }\n",
       "\n",
       "    /* Handle when an output is cleared or removed */\n",
       "    events.on('clear_output.CodeCell', handleClearOutput);\n",
       "    events.on('delete.Cell', handleClearOutput);\n",
       "\n",
       "    /* Handle when a new output is added */\n",
       "    events.on('output_added.OutputArea', handleAddOutput);\n",
       "\n",
       "    /**\n",
       "     * Register the mime type and append_mime function with output_area\n",
       "     */\n",
       "    OutputArea.prototype.register_mime_type(EXEC_MIME_TYPE, append_mime, {\n",
       "      /* Is output safe? */\n",
       "      safe: true,\n",
       "      /* Index of renderer in `output_area.display_order` */\n",
       "      index: 0\n",
       "    });\n",
       "  }\n",
       "\n",
       "  // register the mime type if in Jupyter Notebook environment and previously unregistered\n",
       "  if (root.Jupyter !== undefined) {\n",
       "    const events = require('base/js/events');\n",
       "    const OutputArea = require('notebook/js/outputarea').OutputArea;\n",
       "\n",
       "    if (OutputArea.prototype.mime_types().indexOf(EXEC_MIME_TYPE) == -1) {\n",
       "      register_renderer(events, OutputArea);\n",
       "    }\n",
       "  }\n",
       "  if (typeof (root._bokeh_timeout) === \"undefined\" || force === true) {\n",
       "    root._bokeh_timeout = Date.now() + 5000;\n",
       "    root._bokeh_failed_load = false;\n",
       "  }\n",
       "\n",
       "  const NB_LOAD_WARNING = {'data': {'text/html':\n",
       "     \"<div style='background-color: #fdd'>\\n\"+\n",
       "     \"<p>\\n\"+\n",
       "     \"BokehJS does not appear to have successfully loaded. If loading BokehJS from CDN, this \\n\"+\n",
       "     \"may be due to a slow or bad network connection. Possible fixes:\\n\"+\n",
       "     \"</p>\\n\"+\n",
       "     \"<ul>\\n\"+\n",
       "     \"<li>re-rerun `output_notebook()` to attempt to load from CDN again, or</li>\\n\"+\n",
       "     \"<li>use INLINE resources instead, as so:</li>\\n\"+\n",
       "     \"</ul>\\n\"+\n",
       "     \"<code>\\n\"+\n",
       "     \"from bokeh.resources import INLINE\\n\"+\n",
       "     \"output_notebook(resources=INLINE)\\n\"+\n",
       "     \"</code>\\n\"+\n",
       "     \"</div>\"}};\n",
       "\n",
       "  function display_loaded() {\n",
       "    const el = document.getElementById(\"1001\");\n",
       "    if (el != null) {\n",
       "      el.textContent = \"BokehJS is loading...\";\n",
       "    }\n",
       "    if (root.Bokeh !== undefined) {\n",
       "      if (el != null) {\n",
       "        el.textContent = \"BokehJS \" + root.Bokeh.version + \" successfully loaded.\";\n",
       "      }\n",
       "    } else if (Date.now() < root._bokeh_timeout) {\n",
       "      setTimeout(display_loaded, 100)\n",
       "    }\n",
       "  }\n",
       "\n",
       "  function run_callbacks() {\n",
       "    try {\n",
       "      root._bokeh_onload_callbacks.forEach(function(callback) {\n",
       "        if (callback != null)\n",
       "          callback();\n",
       "      });\n",
       "    } finally {\n",
       "      delete root._bokeh_onload_callbacks\n",
       "    }\n",
       "    console.debug(\"Bokeh: all callbacks have finished\");\n",
       "  }\n",
       "\n",
       "  function load_libs(css_urls, js_urls, callback) {\n",
       "    if (css_urls == null) css_urls = [];\n",
       "    if (js_urls == null) js_urls = [];\n",
       "\n",
       "    root._bokeh_onload_callbacks.push(callback);\n",
       "    if (root._bokeh_is_loading > 0) {\n",
       "      console.debug(\"Bokeh: BokehJS is being loaded, scheduling callback at\", now());\n",
       "      return null;\n",
       "    }\n",
       "    if (js_urls == null || js_urls.length === 0) {\n",
       "      run_callbacks();\n",
       "      return null;\n",
       "    }\n",
       "    console.debug(\"Bokeh: BokehJS not loaded, scheduling load and callback at\", now());\n",
       "    root._bokeh_is_loading = css_urls.length + js_urls.length;\n",
       "\n",
       "    function on_load() {\n",
       "      root._bokeh_is_loading--;\n",
       "      if (root._bokeh_is_loading === 0) {\n",
       "        console.debug(\"Bokeh: all BokehJS libraries/stylesheets loaded\");\n",
       "        run_callbacks()\n",
       "      }\n",
       "    }\n",
       "\n",
       "    function on_error(url) {\n",
       "      console.error(\"failed to load \" + url);\n",
       "    }\n",
       "\n",
       "    for (let i = 0; i < css_urls.length; i++) {\n",
       "      const url = css_urls[i];\n",
       "      const element = document.createElement(\"link\");\n",
       "      element.onload = on_load;\n",
       "      element.onerror = on_error.bind(null, url);\n",
       "      element.rel = \"stylesheet\";\n",
       "      element.type = \"text/css\";\n",
       "      element.href = url;\n",
       "      console.debug(\"Bokeh: injecting link tag for BokehJS stylesheet: \", url);\n",
       "      document.body.appendChild(element);\n",
       "    }\n",
       "\n",
       "    for (let i = 0; i < js_urls.length; i++) {\n",
       "      const url = js_urls[i];\n",
       "      const element = document.createElement('script');\n",
       "      element.onload = on_load;\n",
       "      element.onerror = on_error.bind(null, url);\n",
       "      element.async = false;\n",
       "      element.src = url;\n",
       "      console.debug(\"Bokeh: injecting script tag for BokehJS library: \", url);\n",
       "      document.head.appendChild(element);\n",
       "    }\n",
       "  };\n",
       "\n",
       "  function inject_raw_css(css) {\n",
       "    const element = document.createElement(\"style\");\n",
       "    element.appendChild(document.createTextNode(css));\n",
       "    document.body.appendChild(element);\n",
       "  }\n",
       "\n",
       "  const js_urls = [\"https://cdn.bokeh.org/bokeh/release/bokeh-2.4.3.min.js\", \"https://cdn.bokeh.org/bokeh/release/bokeh-gl-2.4.3.min.js\", \"https://cdn.bokeh.org/bokeh/release/bokeh-widgets-2.4.3.min.js\", \"https://cdn.bokeh.org/bokeh/release/bokeh-tables-2.4.3.min.js\", \"https://cdn.bokeh.org/bokeh/release/bokeh-mathjax-2.4.3.min.js\"];\n",
       "  const css_urls = [];\n",
       "\n",
       "  const inline_js = [    function(Bokeh) {\n",
       "      Bokeh.set_log_level(\"info\");\n",
       "    },\n",
       "function(Bokeh) {\n",
       "    }\n",
       "  ];\n",
       "\n",
       "  function run_inline_js() {\n",
       "    if (root.Bokeh !== undefined || force === true) {\n",
       "          for (let i = 0; i < inline_js.length; i++) {\n",
       "      inline_js[i].call(root, root.Bokeh);\n",
       "    }\n",
       "if (force === true) {\n",
       "        display_loaded();\n",
       "      }} else if (Date.now() < root._bokeh_timeout) {\n",
       "      setTimeout(run_inline_js, 100);\n",
       "    } else if (!root._bokeh_failed_load) {\n",
       "      console.log(\"Bokeh: BokehJS failed to load within specified timeout.\");\n",
       "      root._bokeh_failed_load = true;\n",
       "    } else if (force !== true) {\n",
       "      const cell = $(document.getElementById(\"1001\")).parents('.cell').data().cell;\n",
       "      cell.output_area.append_execute_result(NB_LOAD_WARNING)\n",
       "    }\n",
       "  }\n",
       "\n",
       "  if (root._bokeh_is_loading === 0) {\n",
       "    console.debug(\"Bokeh: BokehJS loaded, going straight to plotting\");\n",
       "    run_inline_js();\n",
       "  } else {\n",
       "    load_libs(css_urls, js_urls, function() {\n",
       "      console.debug(\"Bokeh: BokehJS plotting callback run at\", now());\n",
       "      run_inline_js();\n",
       "    });\n",
       "  }\n",
       "}(window));"
      ],
      "application/vnd.bokehjs_load.v0+json": "(function(root) {\n  function now() {\n    return new Date();\n  }\n\n  const force = true;\n\n  if (typeof root._bokeh_onload_callbacks === \"undefined\" || force === true) {\n    root._bokeh_onload_callbacks = [];\n    root._bokeh_is_loading = undefined;\n  }\n\n\n  if (typeof (root._bokeh_timeout) === \"undefined\" || force === true) {\n    root._bokeh_timeout = Date.now() + 5000;\n    root._bokeh_failed_load = false;\n  }\n\n  const NB_LOAD_WARNING = {'data': {'text/html':\n     \"<div style='background-color: #fdd'>\\n\"+\n     \"<p>\\n\"+\n     \"BokehJS does not appear to have successfully loaded. If loading BokehJS from CDN, this \\n\"+\n     \"may be due to a slow or bad network connection. Possible fixes:\\n\"+\n     \"</p>\\n\"+\n     \"<ul>\\n\"+\n     \"<li>re-rerun `output_notebook()` to attempt to load from CDN again, or</li>\\n\"+\n     \"<li>use INLINE resources instead, as so:</li>\\n\"+\n     \"</ul>\\n\"+\n     \"<code>\\n\"+\n     \"from bokeh.resources import INLINE\\n\"+\n     \"output_notebook(resources=INLINE)\\n\"+\n     \"</code>\\n\"+\n     \"</div>\"}};\n\n  function display_loaded() {\n    const el = document.getElementById(\"1001\");\n    if (el != null) {\n      el.textContent = \"BokehJS is loading...\";\n    }\n    if (root.Bokeh !== undefined) {\n      if (el != null) {\n        el.textContent = \"BokehJS \" + root.Bokeh.version + \" successfully loaded.\";\n      }\n    } else if (Date.now() < root._bokeh_timeout) {\n      setTimeout(display_loaded, 100)\n    }\n  }\n\n  function run_callbacks() {\n    try {\n      root._bokeh_onload_callbacks.forEach(function(callback) {\n        if (callback != null)\n          callback();\n      });\n    } finally {\n      delete root._bokeh_onload_callbacks\n    }\n    console.debug(\"Bokeh: all callbacks have finished\");\n  }\n\n  function load_libs(css_urls, js_urls, callback) {\n    if (css_urls == null) css_urls = [];\n    if (js_urls == null) js_urls = [];\n\n    root._bokeh_onload_callbacks.push(callback);\n    if (root._bokeh_is_loading > 0) {\n      console.debug(\"Bokeh: BokehJS is being loaded, scheduling callback at\", now());\n      return null;\n    }\n    if (js_urls == null || js_urls.length === 0) {\n      run_callbacks();\n      return null;\n    }\n    console.debug(\"Bokeh: BokehJS not loaded, scheduling load and callback at\", now());\n    root._bokeh_is_loading = css_urls.length + js_urls.length;\n\n    function on_load() {\n      root._bokeh_is_loading--;\n      if (root._bokeh_is_loading === 0) {\n        console.debug(\"Bokeh: all BokehJS libraries/stylesheets loaded\");\n        run_callbacks()\n      }\n    }\n\n    function on_error(url) {\n      console.error(\"failed to load \" + url);\n    }\n\n    for (let i = 0; i < css_urls.length; i++) {\n      const url = css_urls[i];\n      const element = document.createElement(\"link\");\n      element.onload = on_load;\n      element.onerror = on_error.bind(null, url);\n      element.rel = \"stylesheet\";\n      element.type = \"text/css\";\n      element.href = url;\n      console.debug(\"Bokeh: injecting link tag for BokehJS stylesheet: \", url);\n      document.body.appendChild(element);\n    }\n\n    for (let i = 0; i < js_urls.length; i++) {\n      const url = js_urls[i];\n      const element = document.createElement('script');\n      element.onload = on_load;\n      element.onerror = on_error.bind(null, url);\n      element.async = false;\n      element.src = url;\n      console.debug(\"Bokeh: injecting script tag for BokehJS library: \", url);\n      document.head.appendChild(element);\n    }\n  };\n\n  function inject_raw_css(css) {\n    const element = document.createElement(\"style\");\n    element.appendChild(document.createTextNode(css));\n    document.body.appendChild(element);\n  }\n\n  const js_urls = [\"https://cdn.bokeh.org/bokeh/release/bokeh-2.4.3.min.js\", \"https://cdn.bokeh.org/bokeh/release/bokeh-gl-2.4.3.min.js\", \"https://cdn.bokeh.org/bokeh/release/bokeh-widgets-2.4.3.min.js\", \"https://cdn.bokeh.org/bokeh/release/bokeh-tables-2.4.3.min.js\", \"https://cdn.bokeh.org/bokeh/release/bokeh-mathjax-2.4.3.min.js\"];\n  const css_urls = [];\n\n  const inline_js = [    function(Bokeh) {\n      Bokeh.set_log_level(\"info\");\n    },\nfunction(Bokeh) {\n    }\n  ];\n\n  function run_inline_js() {\n    if (root.Bokeh !== undefined || force === true) {\n          for (let i = 0; i < inline_js.length; i++) {\n      inline_js[i].call(root, root.Bokeh);\n    }\nif (force === true) {\n        display_loaded();\n      }} else if (Date.now() < root._bokeh_timeout) {\n      setTimeout(run_inline_js, 100);\n    } else if (!root._bokeh_failed_load) {\n      console.log(\"Bokeh: BokehJS failed to load within specified timeout.\");\n      root._bokeh_failed_load = true;\n    } else if (force !== true) {\n      const cell = $(document.getElementById(\"1001\")).parents('.cell').data().cell;\n      cell.output_area.append_execute_result(NB_LOAD_WARNING)\n    }\n  }\n\n  if (root._bokeh_is_loading === 0) {\n    console.debug(\"Bokeh: BokehJS loaded, going straight to plotting\");\n    run_inline_js();\n  } else {\n    load_libs(css_urls, js_urls, function() {\n      console.debug(\"Bokeh: BokehJS plotting callback run at\", now());\n      run_inline_js();\n    });\n  }\n}(window));"
     },
     "metadata": {},
     "output_type": "display_data"
    },
    {
     "data": {
      "text/html": [
       "\n",
       "  <div class=\"bk-root\" id=\"57430c08-6709-4d93-bf97-f15daee8b600\" data-root-id=\"1003\"></div>\n"
      ]
     },
     "metadata": {},
     "output_type": "display_data"
    },
    {
     "data": {
      "application/javascript": [
       "(function(root) {\n",
       "  function embed_document(root) {\n",
       "  const docs_json = {\"5d1393a5-c757-41f7-986d-7e7ee2f8b11e\":{\"defs\":[],\"roots\":{\"references\":[{\"attributes\":{\"below\":[{\"id\":\"1012\"}],\"center\":[{\"id\":\"1015\"},{\"id\":\"1019\"}],\"height\":400,\"left\":[{\"id\":\"1016\"}],\"renderers\":[{\"id\":\"1038\"}],\"title\":{\"id\":\"1040\"},\"toolbar\":{\"id\":\"1027\"},\"width\":400,\"x_range\":{\"id\":\"1004\"},\"x_scale\":{\"id\":\"1008\"},\"y_range\":{\"id\":\"1006\"},\"y_scale\":{\"id\":\"1010\"}},\"id\":\"1003\",\"subtype\":\"Figure\",\"type\":\"Plot\"},{\"attributes\":{},\"id\":\"1025\",\"type\":\"HelpTool\"},{\"attributes\":{\"overlay\":{\"id\":\"1026\"}},\"id\":\"1022\",\"type\":\"BoxZoomTool\"},{\"attributes\":{},\"id\":\"1006\",\"type\":\"DataRange1d\"},{\"attributes\":{},\"id\":\"1023\",\"type\":\"SaveTool\"},{\"attributes\":{},\"id\":\"1024\",\"type\":\"ResetTool\"},{\"attributes\":{},\"id\":\"1004\",\"type\":\"DataRange1d\"},{\"attributes\":{},\"id\":\"1047\",\"type\":\"AllLabels\"},{\"attributes\":{\"bottom_units\":\"screen\",\"coordinates\":null,\"fill_alpha\":0.5,\"fill_color\":\"lightgrey\",\"group\":null,\"left_units\":\"screen\",\"level\":\"overlay\",\"line_alpha\":1.0,\"line_color\":\"black\",\"line_dash\":[4,4],\"line_width\":2,\"right_units\":\"screen\",\"syncable\":false,\"top_units\":\"screen\"},\"id\":\"1026\",\"type\":\"BoxAnnotation\"},{\"attributes\":{\"data\":{\"x\":[0,1,2,3,4,5,6,7,8,9,10,11,12,13,14,15,16,17,18,19,20,21,22,23,24,25,26,27,28,29,30,31,32,33,34,35,36,37,38,39,40,41,42,43,44,45,46,47,48,49,50,51,52,53,54,55,56,57,58,59,60,61,62,63,64,65,66,67,68,69,70,71,72,73,74,75,76,77,78,79,80,81,82,83,84,85,86,87,88,89,90,91,92,93,94,95,96,97,98,99,100,101,102,103,104,105,106,107,108,109,110,111,112,113,114,115,116,117,118,119,120,121,122,123,124,125,126,127,128,129,130,131,132,133,134,135,136,137,138,139,140,141,142,143,144,145,146,147,148,149,150,151,152,153,154,155,156,157,158,159,160,161,162,163,164,165,166,167,168,169,170,171,172,173,174,175,176,177,178,179,180,181,182,183,184,185,186,187,188,189,190,191,192,193,194,195,196,197,198,199,200,201,202,203,204,205,206,207,208,209,210,211,212,213,214,215,216,217,218,219,220,221,222,223,224,225,226,227,228,229,230,231,232,233,234,235,236,237,238,239,240,241,242,243,244,245,246,247,248,249,250,251,252,253,254,255,256,257,258,259,260,261,262,263,264,265,266,267,268,269,270,271,272,273,274,275,276,277,278,279,280,281,282,283,284,285,286,287,288,289,290,291,292,293,294,295,296,297,298,299,300,301,302,303,304,305,306,307,308,309,310,311,312,313,314,315,316,317,318,319,320,321,322,323,324,325,326,327,328,329,330,331,332,333,334,335,336,337,338,339,340,341,342,343,344,345,346,347,348,349,350,351,352,353,354,355,356,357,358,359,360,361,362,363,364,365,366,367,368,369,370,371,372,373,374,375,376,377,378,379,380,381,382,383,384,385,386,387,388,389,390,391,392,393,394,395,396,397,398,399,400,401,402,403,404,405,406,407,408,409,410,411,412,413,414,415,416,417,418,419,420,421,422,423,424,425,426,427,428,429,430,431,432,433,434,435,436,437,438,439,440,441,442,443,444,445,446,447,448,449,450,451,452,453,454,455,456,457,458,459,460,461,462,463,464,465,466,467,468,469,470,471,472,473,474,475,476,477,478,479,480,481,482,483,484,485,486,487,488,489,490,491,492,493,494,495,496,497,498,499,500,501,502,503,504,505,506,507,508,509,510,511,512,513,514,515,516,517,518,519,520,521,522,523,524,525,526,527,528,529,530,531,532,533,534,535,536,537,538,539,540,541,542,543,544,545,546,547,548,549,550,551,552,553,554,555,556,557,558,559,560,561,562,563,564,565,566,567,568,569,570,571,572,573,574,575,576,577,578,579,580,581,582,583,584,585,586,587,588,589,590,591,592,593,594,595,596,597,598,599,600,601,602,603,604,605,606,607,608,609,610,611,612,613,614,615,616,617,618,619,620,621,622,623,624,625,626,627,628,629,630,631,632,633,634,635,636,637,638,639,640,641,642,643,644,645,646,647,648,649,650,651,652,653,654,655,656,657,658,659,660,661,662,663,664,665,666,667,668,669,670,671,672,673,674,675,676,677,678,679,680,681,682,683,684,685,686,687,688,689,690,691,692,693,694,695,696,697,698,699,700,701,702,703,704,705,706,707,708,709,710,711,712,713,714,715,716,717,718,719,720,721,722,723,724,725,726,727,728,729,730,731,732,733,734,735,736,737,738,739,740,741,742,743,744,745,746,747,748,749,750,751,752,753,754,755,756,757,758,759,760,761,762,763,764,765,766,767,768,769,770,771,772,773,774,775,776,777,778,779,780,781,782,783,784,785,786,787,788,789,790,791,792,793,794,795,796,797,798,799,800,801,802,803,804,805,806,807,808,809,810,811,812,813,814,815,816,817,818,819,820,821,822,823,824,825,826,827,828,829,830,831,832,833,834,835,836,837,838],\"y\":[null,0,0,0,0,0,0,0,0,0,0,0,0,0,0,0,0,0,0,0,0,0,0,0,0,0,0,0,0,0,0,0,0,0,0,0,0,0,0,0,0,0,0,0,0,0,0,0,0,0,0,0,0,0,0,0,0,0,0,0,0,0,0,0,0,0,0,0,0,0,0,0,0,0,0,0,0,0,0,0,0,0,0,0,0,0,0,0,0,0,0,0,0,0,0,0,0,0,0,0,0,0,0,0,0,0,0,0,0,0,0,0,0,0,0,0,0,0,0,0,0,0,0,0,0,0,0,0,0,0,0,0,0,0,0,0,0,0,433,582,723,948,1004,1180,1272,1344,1435,1479,1497,1630,1715,1725,2103,2219,2354,2497,2499,2607,2643,2790,2858,2872,2943,2994,3129,3131,3212,3488,3557,3707,3755,3827,4053,4069,4114,4114,4165,4267,4297,4496,4515,4519,4558,4574,4618,4710,4954,4961,5223,5513,5557,5598,5900,6148,6218,6371,6382,6745,6790,6858,7061,7181,7263,7439,7478,7904,7985,8041,8182,8190,8231,8398,8550,8589,8782,8856,8974,9156,9233,9284,9303,9515,9521,9558,9574,9864,9864,9910,10067,10109,10115,10304,10373,10448,10545,10578,10734,10766,10821,10825,10847,10922,11017,11055,11062,11117,11169,11178,11338,11347,11383,11384,11424,11649,11779,11992,12105,12125,12170,12337,12356,12497,12594,12790,12837,12944,13057,13238,13344,13408,13433,13457,13486,13565,13571,13579,13623,13692,13696,13826,14049,14106,14106,14361,14366,14394,14438,14475,14535,14641,14710,14799,14868,14882,14925,15017,15058,15184,15292,15338,15354,15468,15468,15580,15868,15942,15943,15960,15979,16118,16139,16162,16222,16234,16325,16508,16618,16758,16759,16789,16821,16949,16976,16999,17128,17190,17202,17274,17292,17342,17482,17499,17649,17727,17746,17820,17889,17964,17966,18046,18120,18187,18266,18332,18391,18476,18553,18580,18610,18685,18726,18855,18958,18991,19004,19186,19214,19264,19297,19304,19741,19779,19789,19821,19834,19837,19852,19889,19935,20077,20268,20346,20585,20675,20764,20941,20989,21042,21051,21167,21180,21411,21412,21423,21556,21611,21625,21844,21956,21958,22070,22071,22150,22211,22231,22296,22349,22440,22617,22621,22667,22733,22737,22783,22958,23011,23089,23123,23174,23177,23485,23506,23512,23525,23588,23638,23674,23745,23835,23933,23975,23988,24059,24086,24178,24197,24228,24278,24347,24382,24432,24508,24656,24736,24887,24909,24934,24950,25078,25107,25159,25202,25212,25297,25563,25617,25792,25892,25996,26011,26031,26052,26125,26150,26198,26262,26263,26376,26431,26485,26580,26583,26715,26785,26821,26894,27080,27186,27465,27680,27725,27778,27817,28182,28200,28277,28324,28364,28483,28491,28523,28573,28640,28774,28821,28824,28914,28969,29133,29137,29246,29274,29303,29331,29454,29480,29526,29615,29906,29945,29989,30081,30156,30188,30194,30212,30282,30335,30339,30368,30467,30502,30804,30898,31066,31126,31219,31293,31335,31421,31542,31636,31725,31750,31812,31838,31985,32159,32227,32432,32542,32836,33116,33140,33232,33353,33372,33540,33559,33797,33801,33810,33813,33914,33984,34153,34174,34310,34447,34448,34540,34608,34829,34955,35129,35273,35620,35694,35848,35896,35958,36028,36111,36146,36157,36161,36198,36228,36295,36341,36416,36422,36557,36569,36702,36781,36883,36995,37057,37092,37174,37313,37316,37334,37411,37698,37795,37810,37856,37908,37936,38048,38072,38144,38160,38160,38309,38312,38406,38579,38714,38721,38849,38954,39232,39301,39336,39457,39760,39916,39958,40034,40357,40436,40491,40532,40651,40674,40816,41265,41300,41303,41314,41327,41422,41434,41811,41853,41882,42110,42122,42144,42599,42751,42979,43032,43395,43454,43476,43520,43539,43571,43651,43656,43671,43705,43787,43855,43994,44014,44020,44042,44101,44117,44156,44171,44224,44358,44427,44553,44604,44655,44665,44669,44776,44795,44976,45593,45723,46244,46331,46400,46448,46557,46636,46833,46886,46988,47168,47322,47525,47675,47746,47853,47908,47911,47983,48015,48062,48250,48341,48417,48571,48606,48617,48863,48870,48917,49193,49625,49725,49762,49829,49837,49956,50121,50245,50316,50498,50507,50523,50827,50989,51341,51381,51706,51779,51782,51819,51847,52027,52083,52621,52641,52677,52771,53308,53435,53612,53896,53935,54026,54089,54244,54261,54500,54542,54767,54810,54853,54909,54973,55045,55173,55335,55395,55452,55616,55711,55908,55948,56108,56419,56661,56842,57352,58139,58563,58581,59291,59940,60087,60088,60256,60731,61016,61222,62340,62427,62887,63052,63875,64256,64330,64477,64488,64511,64518,64684,64834,65028,65115,65573,66149,66156,66414,67105,67123,67364,67392,67430,67446,67536,67811,68331,68416,69064,69360,69737,69780,69823,71568,71869,71982,72429,72594,72861,72914,73998,75304,75460,76333,76363,76598,76682,76944,77001,77091,78190,78843,78851,79189,81313,81721,81939,83627,84617,85832,89141,90278,93105,93240,96205,99222,102914,113432,116885,119714,143215]},\"selected\":{\"id\":\"1049\"},\"selection_policy\":{\"id\":\"1048\"}},\"id\":\"1034\",\"type\":\"ColumnDataSource\"},{\"attributes\":{},\"id\":\"1044\",\"type\":\"AllLabels\"},{\"attributes\":{},\"id\":\"1008\",\"type\":\"LinearScale\"},{\"attributes\":{},\"id\":\"1046\",\"type\":\"BasicTickFormatter\"},{\"attributes\":{\"tools\":[{\"id\":\"1020\"},{\"id\":\"1021\"},{\"id\":\"1022\"},{\"id\":\"1023\"},{\"id\":\"1024\"},{\"id\":\"1025\"}]},\"id\":\"1027\",\"type\":\"Toolbar\"},{\"attributes\":{\"coordinates\":null,\"formatter\":{\"id\":\"1046\"},\"group\":null,\"major_label_policy\":{\"id\":\"1047\"},\"ticker\":{\"id\":\"1013\"}},\"id\":\"1012\",\"type\":\"LinearAxis\"},{\"attributes\":{\"coordinates\":null,\"group\":null},\"id\":\"1040\",\"type\":\"Title\"},{\"attributes\":{},\"id\":\"1043\",\"type\":\"BasicTickFormatter\"},{\"attributes\":{\"coordinates\":null,\"formatter\":{\"id\":\"1043\"},\"group\":null,\"major_label_policy\":{\"id\":\"1044\"},\"ticker\":{\"id\":\"1017\"}},\"id\":\"1016\",\"type\":\"LinearAxis\"},{\"attributes\":{\"line_alpha\":0.1,\"line_color\":\"#1f77b4\",\"x\":{\"field\":\"x\"},\"y\":{\"field\":\"y\"}},\"id\":\"1036\",\"type\":\"Line\"},{\"attributes\":{\"line_color\":\"#1f77b4\",\"x\":{\"field\":\"x\"},\"y\":{\"field\":\"y\"}},\"id\":\"1035\",\"type\":\"Line\"},{\"attributes\":{},\"id\":\"1049\",\"type\":\"Selection\"},{\"attributes\":{},\"id\":\"1010\",\"type\":\"LinearScale\"},{\"attributes\":{\"coordinates\":null,\"data_source\":{\"id\":\"1034\"},\"glyph\":{\"id\":\"1035\"},\"group\":null,\"hover_glyph\":null,\"muted_glyph\":{\"id\":\"1037\"},\"nonselection_glyph\":{\"id\":\"1036\"},\"view\":{\"id\":\"1039\"}},\"id\":\"1038\",\"type\":\"GlyphRenderer\"},{\"attributes\":{\"source\":{\"id\":\"1034\"}},\"id\":\"1039\",\"type\":\"CDSView\"},{\"attributes\":{\"line_alpha\":0.2,\"line_color\":\"#1f77b4\",\"x\":{\"field\":\"x\"},\"y\":{\"field\":\"y\"}},\"id\":\"1037\",\"type\":\"Line\"},{\"attributes\":{},\"id\":\"1020\",\"type\":\"PanTool\"},{\"attributes\":{},\"id\":\"1048\",\"type\":\"UnionRenderers\"},{\"attributes\":{},\"id\":\"1013\",\"type\":\"BasicTicker\"},{\"attributes\":{\"axis\":{\"id\":\"1012\"},\"coordinates\":null,\"group\":null,\"ticker\":null},\"id\":\"1015\",\"type\":\"Grid\"},{\"attributes\":{\"axis\":{\"id\":\"1016\"},\"coordinates\":null,\"dimension\":1,\"group\":null,\"ticker\":null},\"id\":\"1019\",\"type\":\"Grid\"},{\"attributes\":{},\"id\":\"1017\",\"type\":\"BasicTicker\"},{\"attributes\":{},\"id\":\"1021\",\"type\":\"WheelZoomTool\"}],\"root_ids\":[\"1003\"]},\"title\":\"Bokeh Application\",\"version\":\"2.4.3\"}};\n",
       "  const render_items = [{\"docid\":\"5d1393a5-c757-41f7-986d-7e7ee2f8b11e\",\"root_ids\":[\"1003\"],\"roots\":{\"1003\":\"57430c08-6709-4d93-bf97-f15daee8b600\"}}];\n",
       "  root.Bokeh.embed.embed_items_notebook(docs_json, render_items);\n",
       "  }\n",
       "  if (root.Bokeh !== undefined) {\n",
       "    embed_document(root);\n",
       "  } else {\n",
       "    let attempts = 0;\n",
       "    const timer = setInterval(function(root) {\n",
       "      if (root.Bokeh !== undefined) {\n",
       "        clearInterval(timer);\n",
       "        embed_document(root);\n",
       "      } else {\n",
       "        attempts++;\n",
       "        if (attempts > 100) {\n",
       "          clearInterval(timer);\n",
       "          console.log(\"Bokeh: ERROR: Unable to run BokehJS code because BokehJS library is missing\");\n",
       "        }\n",
       "      }\n",
       "    }, 10, root)\n",
       "  }\n",
       "})(window);"
      ],
      "application/vnd.bokehjs_exec.v0+json": ""
     },
     "metadata": {
      "application/vnd.bokehjs_exec.v0+json": {
       "id": "1003"
      }
     },
     "output_type": "display_data"
    }
   ],
   "source": [
    "#a little bit of bokeh\n",
    "from bokeh.io import output_notebook, show\n",
    "output_notebook()\n",
    "from bokeh.plotting import figure\n",
    "p = figure(width=400, height=400)\n",
    "p.line(range(len(df_running[\"weekstep\"])),df_running[\"weekstep\"])\n",
    "show(p) # show the results"
   ]
  },
  {
   "cell_type": "code",
   "execution_count": 12,
   "metadata": {
    "id": "wuUu-nngWu86"
   },
   "outputs": [],
   "source": [
    "df_running = df_running.sort(\"freq\")"
   ]
  },
  {
   "cell_type": "code",
   "execution_count": 13,
   "metadata": {
    "colab": {
     "base_uri": "https://localhost:8080/",
     "height": 417
    },
    "id": "2bFSctlXW2Rb",
    "outputId": "2df25c78-62bb-4ae6-d98c-fafdea07c44a"
   },
   "outputs": [
    {
     "data": {
      "text/html": [
       "\n",
       "  <div class=\"bk-root\" id=\"7479a1c1-5910-4743-88cc-ab6c324e49ea\" data-root-id=\"1106\"></div>\n"
      ]
     },
     "metadata": {},
     "output_type": "display_data"
    },
    {
     "data": {
      "application/javascript": [
       "(function(root) {\n",
       "  function embed_document(root) {\n",
       "  const docs_json = {\"2f21fff7-6444-48c2-aa6c-8fceaec072f2\":{\"defs\":[],\"roots\":{\"references\":[{\"attributes\":{\"below\":[{\"id\":\"1115\"}],\"center\":[{\"id\":\"1118\"},{\"id\":\"1122\"}],\"height\":400,\"left\":[{\"id\":\"1119\"}],\"renderers\":[{\"id\":\"1141\"}],\"title\":{\"id\":\"1154\"},\"toolbar\":{\"id\":\"1130\"},\"width\":400,\"x_range\":{\"id\":\"1107\"},\"x_scale\":{\"id\":\"1111\"},\"y_range\":{\"id\":\"1109\"},\"y_scale\":{\"id\":\"1113\"}},\"id\":\"1106\",\"subtype\":\"Figure\",\"type\":\"Plot\"},{\"attributes\":{\"coordinates\":null,\"formatter\":{\"id\":\"1157\"},\"group\":null,\"major_label_policy\":{\"id\":\"1158\"},\"ticker\":{\"id\":\"1120\"}},\"id\":\"1119\",\"type\":\"LinearAxis\"},{\"attributes\":{},\"id\":\"1113\",\"type\":\"LinearScale\"},{\"attributes\":{\"line_color\":\"#1f77b4\",\"x\":{\"field\":\"x\"},\"y\":{\"field\":\"y\"}},\"id\":\"1138\",\"type\":\"Line\"},{\"attributes\":{},\"id\":\"1109\",\"type\":\"DataRange1d\"},{\"attributes\":{},\"id\":\"1127\",\"type\":\"ResetTool\"},{\"attributes\":{},\"id\":\"1126\",\"type\":\"SaveTool\"},{\"attributes\":{\"overlay\":{\"id\":\"1129\"}},\"id\":\"1125\",\"type\":\"BoxZoomTool\"},{\"attributes\":{},\"id\":\"1120\",\"type\":\"BasicTicker\"},{\"attributes\":{},\"id\":\"1123\",\"type\":\"PanTool\"},{\"attributes\":{\"axis\":{\"id\":\"1119\"},\"coordinates\":null,\"dimension\":1,\"group\":null,\"ticker\":null},\"id\":\"1122\",\"type\":\"Grid\"},{\"attributes\":{\"tools\":[{\"id\":\"1123\"},{\"id\":\"1124\"},{\"id\":\"1125\"},{\"id\":\"1126\"},{\"id\":\"1127\"},{\"id\":\"1128\"}]},\"id\":\"1130\",\"type\":\"Toolbar\"},{\"attributes\":{},\"id\":\"1161\",\"type\":\"AllLabels\"},{\"attributes\":{\"line_alpha\":0.1,\"line_color\":\"#1f77b4\",\"x\":{\"field\":\"x\"},\"y\":{\"field\":\"y\"}},\"id\":\"1139\",\"type\":\"Line\"},{\"attributes\":{},\"id\":\"1160\",\"type\":\"BasicTickFormatter\"},{\"attributes\":{},\"id\":\"1158\",\"type\":\"AllLabels\"},{\"attributes\":{\"coordinates\":null,\"data_source\":{\"id\":\"1137\"},\"glyph\":{\"id\":\"1138\"},\"group\":null,\"hover_glyph\":null,\"muted_glyph\":{\"id\":\"1140\"},\"nonselection_glyph\":{\"id\":\"1139\"},\"view\":{\"id\":\"1142\"}},\"id\":\"1141\",\"type\":\"GlyphRenderer\"},{\"attributes\":{\"bottom_units\":\"screen\",\"coordinates\":null,\"fill_alpha\":0.5,\"fill_color\":\"lightgrey\",\"group\":null,\"left_units\":\"screen\",\"level\":\"overlay\",\"line_alpha\":1.0,\"line_color\":\"black\",\"line_dash\":[4,4],\"line_width\":2,\"right_units\":\"screen\",\"syncable\":false,\"top_units\":\"screen\"},\"id\":\"1129\",\"type\":\"BoxAnnotation\"},{\"attributes\":{},\"id\":\"1157\",\"type\":\"BasicTickFormatter\"},{\"attributes\":{},\"id\":\"1107\",\"type\":\"DataRange1d\"},{\"attributes\":{},\"id\":\"1128\",\"type\":\"HelpTool\"},{\"attributes\":{},\"id\":\"1163\",\"type\":\"Selection\"},{\"attributes\":{\"axis\":{\"id\":\"1115\"},\"coordinates\":null,\"group\":null,\"ticker\":null},\"id\":\"1118\",\"type\":\"Grid\"},{\"attributes\":{},\"id\":\"1162\",\"type\":\"UnionRenderers\"},{\"attributes\":{\"coordinates\":null,\"formatter\":{\"id\":\"1160\"},\"group\":null,\"major_label_policy\":{\"id\":\"1161\"},\"ticker\":{\"id\":\"1116\"}},\"id\":\"1115\",\"type\":\"LinearAxis\"},{\"attributes\":{},\"id\":\"1116\",\"type\":\"BasicTicker\"},{\"attributes\":{\"line_alpha\":0.2,\"line_color\":\"#1f77b4\",\"x\":{\"field\":\"x\"},\"y\":{\"field\":\"y\"}},\"id\":\"1140\",\"type\":\"Line\"},{\"attributes\":{\"source\":{\"id\":\"1137\"}},\"id\":\"1142\",\"type\":\"CDSView\"},{\"attributes\":{\"data\":{\"x\":[0,1,2,3,4,5,6,7,8,9,10,11,12,13,14,15,16,17,18,19,20,21,22,23,24,25,26,27,28,29,30,31,32,33,34,35,36,37,38,39,40,41,42,43,44,45,46,47,48,49,50,51,52,53,54,55,56,57,58,59,60,61,62,63,64,65,66,67,68,69,70,71,72,73,74,75,76,77,78,79,80,81,82,83,84,85,86,87,88,89,90,91,92,93,94,95,96,97,98,99,100,101,102,103,104,105,106,107,108,109,110,111,112,113,114,115,116,117,118,119,120,121,122,123,124,125,126,127,128,129,130,131,132,133,134,135,136,137,138,139,140,141,142,143,144,145,146,147,148,149,150,151,152,153,154,155,156,157,158,159,160,161,162,163,164,165,166,167,168,169,170,171,172,173,174,175,176,177,178,179,180,181,182,183,184,185,186,187,188,189,190,191,192,193,194,195,196,197,198,199,200,201,202,203,204,205,206,207,208,209,210,211,212,213,214,215,216,217,218,219,220,221,222,223,224,225,226,227,228,229,230,231,232,233,234,235,236,237,238,239,240,241,242,243,244,245,246,247,248,249,250,251,252,253,254,255,256,257,258,259,260,261,262,263,264,265,266,267,268,269,270,271,272,273,274,275,276,277,278,279,280,281,282,283,284,285,286,287,288,289,290,291,292,293,294,295,296,297,298,299,300,301,302,303,304,305,306,307,308,309,310,311,312,313,314,315,316,317,318,319,320,321,322,323,324,325,326,327,328,329,330,331,332,333,334,335,336,337,338,339,340,341,342,343,344,345,346,347,348,349,350,351,352,353,354,355,356,357,358,359,360,361,362,363,364,365,366,367,368,369,370,371,372,373,374,375,376,377,378,379,380,381,382,383,384,385,386,387,388,389,390,391,392,393,394,395,396,397,398,399,400,401,402,403,404,405,406,407,408,409,410,411,412,413,414,415,416,417,418,419,420,421,422,423,424,425,426,427,428,429,430,431,432,433,434,435,436,437,438,439,440,441,442,443,444,445,446,447,448,449,450,451,452,453,454,455,456,457,458,459,460,461,462,463,464,465,466,467,468,469,470,471,472,473,474,475,476,477,478,479,480,481,482,483,484,485,486,487,488,489,490,491,492,493,494,495,496,497,498,499,500,501,502,503,504,505,506,507,508,509,510,511,512,513,514,515,516,517,518,519,520,521,522,523,524,525,526,527,528,529,530,531,532,533,534,535,536,537,538,539,540,541,542,543,544,545,546,547,548,549,550,551,552,553,554,555,556,557,558,559,560,561,562,563,564,565,566,567,568,569,570,571,572,573,574,575,576,577,578,579,580,581,582,583,584,585,586,587,588,589,590,591,592,593,594,595,596,597,598,599,600,601,602,603,604,605,606,607,608,609,610,611,612,613,614,615,616,617,618,619,620,621,622,623,624,625,626,627,628,629,630,631,632,633,634,635,636,637,638,639,640,641,642,643,644,645,646,647,648,649,650,651,652,653,654,655,656,657,658,659,660,661,662,663,664,665,666,667,668,669,670,671,672,673,674,675,676,677,678,679,680,681,682,683,684,685,686,687,688,689,690,691,692,693,694,695,696,697,698,699,700,701,702,703,704,705,706,707,708,709,710,711,712,713,714,715,716,717,718,719,720,721,722,723,724,725,726,727,728,729,730,731,732,733,734,735,736,737,738,739,740,741,742,743,744,745,746,747,748,749,750,751,752,753,754,755,756,757,758,759,760,761,762,763,764,765,766,767,768,769,770,771,772,773,774,775,776,777,778,779,780,781,782,783,784,785,786,787,788,789,790,791,792,793,794,795,796,797,798,799,800,801,802,803,804,805,806,807,808,809,810,811,812,813,814,815,816,817,818,819,820,821,822,823,824,825,826,827,828,829,830,831,832,833,834,835,836,837,838],\"y\":[1,1,1,1,1,1,1,1,1,1,1,1,1,1,1,1,1,1,1,1,1,1,1,1,1,1,1,1,1,1,1,2,2,2,2,2,2,2,2,2,2,2,2,2,2,2,2,2,2,2,2,2,2,2,2,2,2,2,2,2,2,2,2,2,2,2,2,2,2,2,2,2,2,2,2,2,2,2,2,2,2,2,2,2,2,2,2,2,2,2,2,2,2,2,2,2,2,2,2,2,2,2,2,2,3,3,3,3,3,3,3,3,3,3,3,3,3,3,3,3,3,3,3,3,3,3,3,3,3,3,3,3,3,3,3,3,3,3,3,3,3,3,3,3,3,3,3,3,3,3,3,3,3,3,3,3,3,3,3,3,3,3,3,3,3,3,3,3,3,3,3,3,3,3,3,3,3,3,3,3,3,3,3,3,3,3,3,3,3,3,3,3,3,3,3,3,3,3,3,3,3,3,3,3,3,3,3,3,3,3,3,3,3,3,3,3,3,3,3,3,3,3,3,3,3,3,3,3,3,3,3,3,4,4,4,4,4,4,4,4,4,4,4,4,4,4,4,4,4,4,4,4,4,4,4,4,4,4,4,4,4,4,4,4,4,4,4,4,4,4,4,4,4,4,4,4,4,4,4,4,4,4,4,4,4,4,4,4,4,4,4,5,5,5,5,5,5,5,5,5,5,5,5,5,5,5,5,5,5,5,5,5,5,5,5,5,5,5,5,5,5,5,5,5,5,5,5,5,5,5,5,5,5,5,5,5,5,5,5,5,5,5,5,5,5,5,5,5,5,5,5,5,5,5,5,5,5,5,5,5,5,5,5,5,5,5,5,5,5,5,5,5,5,5,5,5,5,5,5,5,5,5,5,5,5,6,6,6,6,6,6,6,6,6,6,6,6,6,6,6,6,6,6,6,6,6,6,6,6,6,6,6,6,6,6,6,6,6,6,6,6,6,6,6,6,6,6,6,6,6,6,6,6,6,6,6,6,6,6,6,6,6,6,6,6,6,6,6,6,6,6,6,6,6,6,6,6,6,6,6,6,6,6,6,6,6,6,6,6,6,6,6,6,6,6,6,6,6,6,6,6,6,6,6,6,6,6,6,6,6,6,6,6,6,6,6,6,6,6,6,6,6,6,6,6,6,6,6,6,6,6,6,6,6,6,6,6,6,6,6,6,6,6,6,6,6,6,6,6,6,6,6,6,6,6,6,6,6,6,6,6,6,6,6,6,6,6,6,6,6,6,6,6,6,6,6,6,6,6,6,6,6,6,6,6,6,6,6,6,6,6,6,6,6,6,6,6,6,6,6,6,6,6,6,6,6,6,6,6,6,6,6,6,6,6,6,6,6,6,6,6,6,6,6,6,6,6,6,6,6,6,6,6,6,6,6,6,6,6,6,6,6,6,6,6,6,6,6,6,6,6,6,6,6,6,6,6,6,6,6,6,6,6,6,6,6,6,6,6,6,6,6,6,6,6,6,6,6,6,6,6,6,6,6,6,6,6,6,6,6,6,6,6,6,6,6,6,6,6,6,6,6,6,6,6,6,6,6,6,6,6,6,6,6,6,6,6,6,6,6,6,6,6,6,6,6,6,6,6,6,6,6,6,6,6,6,6,6,6,6,6,6,6,6,6,6,6,6,6,6,6,6,6,6,6,6,6,6,6,6,6,6,6,6,6,6,6,6,6,6,6,6,6,6,6,6,6,6,6,6,6,6,6,6,6,6,6,6,6,6,6,6,6,6,6,6,6,6,6,6,6,6,6,6,6,6,6,6,6,6,6,6,6,6,6,6,6,6,6,6,6,6,6,6,6,6,6,6,6,6,6,6,6,6,6,6,6,6,6,6,6,6,6,6,6,6,6,6,6,6,6,6,6,6,6,6,6,6,6]},\"selected\":{\"id\":\"1163\"},\"selection_policy\":{\"id\":\"1162\"}},\"id\":\"1137\",\"type\":\"ColumnDataSource\"},{\"attributes\":{\"coordinates\":null,\"group\":null},\"id\":\"1154\",\"type\":\"Title\"},{\"attributes\":{},\"id\":\"1124\",\"type\":\"WheelZoomTool\"},{\"attributes\":{},\"id\":\"1111\",\"type\":\"LinearScale\"}],\"root_ids\":[\"1106\"]},\"title\":\"Bokeh Application\",\"version\":\"2.4.3\"}};\n",
       "  const render_items = [{\"docid\":\"2f21fff7-6444-48c2-aa6c-8fceaec072f2\",\"root_ids\":[\"1106\"],\"roots\":{\"1106\":\"7479a1c1-5910-4743-88cc-ab6c324e49ea\"}}];\n",
       "  root.Bokeh.embed.embed_items_notebook(docs_json, render_items);\n",
       "  }\n",
       "  if (root.Bokeh !== undefined) {\n",
       "    embed_document(root);\n",
       "  } else {\n",
       "    let attempts = 0;\n",
       "    const timer = setInterval(function(root) {\n",
       "      if (root.Bokeh !== undefined) {\n",
       "        clearInterval(timer);\n",
       "        embed_document(root);\n",
       "      } else {\n",
       "        attempts++;\n",
       "        if (attempts > 100) {\n",
       "          clearInterval(timer);\n",
       "          console.log(\"Bokeh: ERROR: Unable to run BokehJS code because BokehJS library is missing\");\n",
       "        }\n",
       "      }\n",
       "    }, 10, root)\n",
       "  }\n",
       "})(window);"
      ],
      "application/vnd.bokehjs_exec.v0+json": ""
     },
     "metadata": {
      "application/vnd.bokehjs_exec.v0+json": {
       "id": "1106"
      }
     },
     "output_type": "display_data"
    }
   ],
   "source": [
    "p = figure(width=400, height=400)\n",
    "\n",
    "# add a circle renderer with x and y coordinates, size, color, and alpha\n",
    "p.line(range(len(df_running[\"freq\"])),df_running[\"freq\"])\n",
    "\n",
    "show(p) # show the results"
   ]
  },
  {
   "cell_type": "code",
   "execution_count": 14,
   "metadata": {
    "colab": {
     "base_uri": "https://localhost:8080/",
     "height": 435
    },
    "id": "qJoc9CetXzRI",
    "outputId": "8c69125f-a39c-49b6-8bbc-5f382057c09a"
   },
   "outputs": [
    {
     "data": {
      "text/html": [
       "<div><style>\n",
       ".dataframe > thead > tr > th,\n",
       ".dataframe > tbody > tr > td {\n",
       "  text-align: right;\n",
       "}\n",
       "</style>\n",
       "<small>shape: (9, 40)</small><table border=\"1\" class=\"dataframe\"><thead><tr><th>describe</th><th>weekstep</th><th>freq</th><th>gender</th><th>age</th><th>sport</th><th>Openness</th><th>Conscientious</th><th>Agreeable</th><th>Neurotic</th><th>Extraverted</th><th>Thrill-Seeking</th><th>Nike</th><th>adidas</th><th>Converse</th><th>Vans</th><th>Puma</th><th>Reebok</th><th>New Balance</th><th>Fila</th><th>Asics</th><th>Under Armour</th><th>Jordan</th><th>Timberland</th><th>Skechers</th><th>K-Swiss</th><th>Lacoste</th><th>Lotto</th><th>Mizuno</th><th>Salomon</th><th>Umbro</th><th>ecco</th><th>Diadora</th><th>Other</th><th>None of the above</th><th>Not applicable/prefer not to say</th><th>I don&#x27;t know</th><th>thrill</th><th>con</th><th>extra</th></tr><tr><td>str</td><td>f64</td><td>f64</td><td>f64</td><td>f64</td><td>f64</td><td>f64</td><td>f64</td><td>f64</td><td>f64</td><td>f64</td><td>f64</td><td>f64</td><td>f64</td><td>f64</td><td>f64</td><td>f64</td><td>f64</td><td>f64</td><td>f64</td><td>f64</td><td>f64</td><td>f64</td><td>f64</td><td>f64</td><td>f64</td><td>f64</td><td>f64</td><td>f64</td><td>f64</td><td>f64</td><td>f64</td><td>f64</td><td>f64</td><td>f64</td><td>f64</td><td>f64</td><td>f64</td><td>f64</td><td>f64</td></tr></thead><tbody><tr><td>&quot;count&quot;</td><td>385.0</td><td>385.0</td><td>385.0</td><td>385.0</td><td>385.0</td><td>385.0</td><td>385.0</td><td>385.0</td><td>385.0</td><td>385.0</td><td>385.0</td><td>385.0</td><td>385.0</td><td>385.0</td><td>385.0</td><td>385.0</td><td>385.0</td><td>385.0</td><td>385.0</td><td>385.0</td><td>385.0</td><td>385.0</td><td>385.0</td><td>385.0</td><td>385.0</td><td>385.0</td><td>385.0</td><td>385.0</td><td>385.0</td><td>385.0</td><td>385.0</td><td>385.0</td><td>385.0</td><td>385.0</td><td>385.0</td><td>385.0</td><td>385.0</td><td>385.0</td><td>385.0</td></tr><tr><td>&quot;null_count&quot;</td><td>1.0</td><td>0.0</td><td>0.0</td><td>0.0</td><td>0.0</td><td>1.0</td><td>1.0</td><td>1.0</td><td>1.0</td><td>1.0</td><td>1.0</td><td>0.0</td><td>0.0</td><td>0.0</td><td>0.0</td><td>0.0</td><td>0.0</td><td>0.0</td><td>0.0</td><td>0.0</td><td>0.0</td><td>0.0</td><td>0.0</td><td>0.0</td><td>0.0</td><td>0.0</td><td>0.0</td><td>0.0</td><td>0.0</td><td>0.0</td><td>0.0</td><td>0.0</td><td>0.0</td><td>0.0</td><td>0.0</td><td>0.0</td><td>2.0</td><td>1.0</td><td>1.0</td></tr><tr><td>&quot;mean&quot;</td><td>28837.5625</td><td>3.290909</td><td>1.511688</td><td>34.023377</td><td>0.392208</td><td>57.356771</td><td>61.588542</td><td>69.287109</td><td>49.332682</td><td>48.193359</td><td>51.388438</td><td>0.735065</td><td>0.638961</td><td>0.32987</td><td>0.301299</td><td>0.231169</td><td>0.171429</td><td>0.202597</td><td>0.093506</td><td>0.114286</td><td>0.127273</td><td>0.114286</td><td>0.064935</td><td>0.148052</td><td>0.015584</td><td>0.072727</td><td>0.015584</td><td>0.012987</td><td>0.041558</td><td>0.044156</td><td>0.015584</td><td>0.025974</td><td>0.101299</td><td>0.007792</td><td>0.005195</td><td>0.005195</td><td>2.052219</td><td>2.359375</td><td>1.9296875</td></tr><tr><td>&quot;std&quot;</td><td>23949.451325</td><td>1.249394</td><td>0.500514</td><td>8.689791</td><td>0.488878</td><td>14.360406</td><td>19.272616</td><td>19.415843</td><td>20.599647</td><td>22.380088</td><td>19.527778</td><td>0.441873</td><td>0.480927</td><td>0.470778</td><td>0.459419</td><td>0.422129</td><td>0.377373</td><td>0.402458</td><td>0.29152</td><td>0.318572</td><td>0.333712</td><td>0.318572</td><td>0.246732</td><td>0.355614</td><td>0.124022</td><td>0.260026</td><td>0.124022</td><td>0.113365</td><td>0.199838</td><td>0.205709</td><td>0.124022</td><td>0.159265</td><td>0.302116</td><td>0.088043</td><td>0.071981</td><td>0.071981</td><td>0.653135</td><td>0.605472</td><td>0.687641</td></tr><tr><td>&quot;min&quot;</td><td>0.0</td><td>1.0</td><td>1.0</td><td>18.0</td><td>0.0</td><td>6.25</td><td>6.25</td><td>12.5</td><td>0.0</td><td>0.0</td><td>0.0</td><td>0.0</td><td>0.0</td><td>0.0</td><td>0.0</td><td>0.0</td><td>0.0</td><td>0.0</td><td>0.0</td><td>0.0</td><td>0.0</td><td>0.0</td><td>0.0</td><td>0.0</td><td>0.0</td><td>0.0</td><td>0.0</td><td>0.0</td><td>0.0</td><td>0.0</td><td>0.0</td><td>0.0</td><td>0.0</td><td>0.0</td><td>0.0</td><td>0.0</td><td>1.0</td><td>1.0</td><td>1.0</td></tr><tr><td>&quot;max&quot;</td><td>116885.0</td><td>5.0</td><td>2.0</td><td>54.0</td><td>1.0</td><td>93.75</td><td>100.0</td><td>100.0</td><td>100.0</td><td>100.0</td><td>100.0</td><td>1.0</td><td>1.0</td><td>1.0</td><td>1.0</td><td>1.0</td><td>1.0</td><td>1.0</td><td>1.0</td><td>1.0</td><td>1.0</td><td>1.0</td><td>1.0</td><td>1.0</td><td>1.0</td><td>1.0</td><td>1.0</td><td>1.0</td><td>1.0</td><td>1.0</td><td>1.0</td><td>1.0</td><td>1.0</td><td>1.0</td><td>1.0</td><td>1.0</td><td>3.0</td><td>3.0</td><td>3.0</td></tr><tr><td>&quot;median&quot;</td><td>25704.5</td><td>3.0</td><td>2.0</td><td>34.0</td><td>0.0</td><td>56.25</td><td>62.5</td><td>68.75</td><td>50.0</td><td>50.0</td><td>52.39</td><td>1.0</td><td>1.0</td><td>0.0</td><td>0.0</td><td>0.0</td><td>0.0</td><td>0.0</td><td>0.0</td><td>0.0</td><td>0.0</td><td>0.0</td><td>0.0</td><td>0.0</td><td>0.0</td><td>0.0</td><td>0.0</td><td>0.0</td><td>0.0</td><td>0.0</td><td>0.0</td><td>0.0</td><td>0.0</td><td>0.0</td><td>0.0</td><td>0.0</td><td>2.0</td><td>2.0</td><td>2.0</td></tr><tr><td>&quot;25%&quot;</td><td>8589.0</td><td>2.0</td><td>1.0</td><td>27.0</td><td>null</td><td>50.0</td><td>50.0</td><td>56.25</td><td>37.5</td><td>31.25</td><td>38.0</td><td>null</td><td>null</td><td>null</td><td>null</td><td>null</td><td>null</td><td>null</td><td>null</td><td>null</td><td>null</td><td>null</td><td>null</td><td>null</td><td>null</td><td>null</td><td>null</td><td>null</td><td>null</td><td>null</td><td>null</td><td>null</td><td>null</td><td>null</td><td>null</td><td>null</td><td>2.0</td><td>2.0</td><td>1.0</td></tr><tr><td>&quot;75%&quot;</td><td>44042.0</td><td>4.0</td><td>2.0</td><td>40.0</td><td>null</td><td>68.75</td><td>75.0</td><td>87.5</td><td>62.5</td><td>62.5</td><td>65.28</td><td>null</td><td>null</td><td>null</td><td>null</td><td>null</td><td>null</td><td>null</td><td>null</td><td>null</td><td>null</td><td>null</td><td>null</td><td>null</td><td>null</td><td>null</td><td>null</td><td>null</td><td>null</td><td>null</td><td>null</td><td>null</td><td>null</td><td>null</td><td>null</td><td>null</td><td>2.0</td><td>3.0</td><td>2.0</td></tr></tbody></table></div>"
      ],
      "text/plain": [
       "shape: (9, 40)\n",
       "┌────────────┬──────────────┬──────────┬──────────┬───┬──────────────┬──────────┬──────────┬───────────┐\n",
       "│ describe   ┆ weekstep     ┆ freq     ┆ gender   ┆ … ┆ I don't know ┆ thrill   ┆ con      ┆ extra     │\n",
       "│ ---        ┆ ---          ┆ ---      ┆ ---      ┆   ┆ ---          ┆ ---      ┆ ---      ┆ ---       │\n",
       "│ str        ┆ f64          ┆ f64      ┆ f64      ┆   ┆ f64          ┆ f64      ┆ f64      ┆ f64       │\n",
       "╞════════════╪══════════════╪══════════╪══════════╪═══╪══════════════╪══════════╪══════════╪═══════════╡\n",
       "│ count      ┆ 385.0        ┆ 385.0    ┆ 385.0    ┆ … ┆ 385.0        ┆ 385.0    ┆ 385.0    ┆ 385.0     │\n",
       "│ null_count ┆ 1.0          ┆ 0.0      ┆ 0.0      ┆ … ┆ 0.0          ┆ 2.0      ┆ 1.0      ┆ 1.0       │\n",
       "│ mean       ┆ 28837.5625   ┆ 3.290909 ┆ 1.511688 ┆ … ┆ 0.005195     ┆ 2.052219 ┆ 2.359375 ┆ 1.9296875 │\n",
       "│ std        ┆ 23949.451325 ┆ 1.249394 ┆ 0.500514 ┆ … ┆ 0.071981     ┆ 0.653135 ┆ 0.605472 ┆ 0.687641  │\n",
       "│ min        ┆ 0.0          ┆ 1.0      ┆ 1.0      ┆ … ┆ 0.0          ┆ 1.0      ┆ 1.0      ┆ 1.0       │\n",
       "│ max        ┆ 116885.0     ┆ 5.0      ┆ 2.0      ┆ … ┆ 1.0          ┆ 3.0      ┆ 3.0      ┆ 3.0       │\n",
       "│ median     ┆ 25704.5      ┆ 3.0      ┆ 2.0      ┆ … ┆ 0.0          ┆ 2.0      ┆ 2.0      ┆ 2.0       │\n",
       "│ 25%        ┆ 8589.0       ┆ 2.0      ┆ 1.0      ┆ … ┆ null         ┆ 2.0      ┆ 2.0      ┆ 1.0       │\n",
       "│ 75%        ┆ 44042.0      ┆ 4.0      ┆ 2.0      ┆ … ┆ null         ┆ 2.0      ┆ 3.0      ┆ 2.0       │\n",
       "└────────────┴──────────────┴──────────┴──────────┴───┴──────────────┴──────────┴──────────┴───────────┘"
      ]
     },
     "execution_count": 14,
     "metadata": {},
     "output_type": "execute_result"
    }
   ],
   "source": [
    "df_running.filter(pl.col(\"freq\")!=6).describe()"
   ]
  },
  {
   "cell_type": "code",
   "execution_count": 15,
   "metadata": {
    "colab": {
     "base_uri": "https://localhost:8080/",
     "height": 417
    },
    "id": "vPzn7I9pYMeZ",
    "outputId": "e37145f7-9b14-458a-bbcf-ce95b9db34c8"
   },
   "outputs": [
    {
     "data": {
      "text/html": [
       "\n",
       "  <div class=\"bk-root\" id=\"bb950676-6563-4701-89b5-f6e95917e835\" data-root-id=\"1220\"></div>\n"
      ]
     },
     "metadata": {},
     "output_type": "display_data"
    },
    {
     "data": {
      "application/javascript": [
       "(function(root) {\n",
       "  function embed_document(root) {\n",
       "  const docs_json = {\"06ac2a14-2975-40bb-820c-71c844af45d4\":{\"defs\":[],\"roots\":{\"references\":[{\"attributes\":{\"below\":[{\"id\":\"1229\"}],\"center\":[{\"id\":\"1232\"},{\"id\":\"1236\"}],\"height\":400,\"left\":[{\"id\":\"1233\"}],\"renderers\":[{\"id\":\"1255\"}],\"title\":{\"id\":\"1279\"},\"toolbar\":{\"id\":\"1244\"},\"width\":400,\"x_range\":{\"id\":\"1221\"},\"x_scale\":{\"id\":\"1225\"},\"y_range\":{\"id\":\"1223\"},\"y_scale\":{\"id\":\"1227\"}},\"id\":\"1220\",\"subtype\":\"Figure\",\"type\":\"Plot\"},{\"attributes\":{\"overlay\":{\"id\":\"1243\"}},\"id\":\"1239\",\"type\":\"BoxZoomTool\"},{\"attributes\":{\"coordinates\":null,\"formatter\":{\"id\":\"1285\"},\"group\":null,\"major_label_policy\":{\"id\":\"1286\"},\"ticker\":{\"id\":\"1230\"}},\"id\":\"1229\",\"type\":\"LinearAxis\"},{\"attributes\":{},\"id\":\"1227\",\"type\":\"LinearScale\"},{\"attributes\":{\"axis\":{\"id\":\"1229\"},\"coordinates\":null,\"group\":null,\"ticker\":null},\"id\":\"1232\",\"type\":\"Grid\"},{\"attributes\":{},\"id\":\"1282\",\"type\":\"BasicTickFormatter\"},{\"attributes\":{},\"id\":\"1286\",\"type\":\"AllLabels\"},{\"attributes\":{},\"id\":\"1225\",\"type\":\"LinearScale\"},{\"attributes\":{},\"id\":\"1283\",\"type\":\"AllLabels\"},{\"attributes\":{},\"id\":\"1285\",\"type\":\"BasicTickFormatter\"},{\"attributes\":{},\"id\":\"1241\",\"type\":\"ResetTool\"},{\"attributes\":{},\"id\":\"1223\",\"type\":\"DataRange1d\"},{\"attributes\":{},\"id\":\"1221\",\"type\":\"DataRange1d\"},{\"attributes\":{},\"id\":\"1240\",\"type\":\"SaveTool\"},{\"attributes\":{},\"id\":\"1287\",\"type\":\"UnionRenderers\"},{\"attributes\":{},\"id\":\"1237\",\"type\":\"PanTool\"},{\"attributes\":{},\"id\":\"1230\",\"type\":\"BasicTicker\"},{\"attributes\":{},\"id\":\"1242\",\"type\":\"HelpTool\"},{\"attributes\":{\"tools\":[{\"id\":\"1237\"},{\"id\":\"1238\"},{\"id\":\"1239\"},{\"id\":\"1240\"},{\"id\":\"1241\"},{\"id\":\"1242\"}]},\"id\":\"1244\",\"type\":\"Toolbar\"},{\"attributes\":{},\"id\":\"1234\",\"type\":\"BasicTicker\"},{\"attributes\":{\"fill_color\":{\"value\":\"#1f77b4\"},\"line_color\":{\"value\":\"#1f77b4\"},\"x\":{\"field\":\"x\"},\"y\":{\"field\":\"y\"}},\"id\":\"1252\",\"type\":\"Circle\"},{\"attributes\":{},\"id\":\"1288\",\"type\":\"Selection\"},{\"attributes\":{\"data\":{\"x\":[0,0,0,0,0,0,0,0,0,1630,3827,8856,10825,10847,13457,13571,13579,14868,15338,15960,22617,26894,30502,32836,39958,44156,44976,50827,52677,78851,93105,null,0,0,0,0,0,0,0,0,0,0,0,0,0,0,0,0,0,0,0,1180,1479,1715,4954,6858,8782,12170,16759,17482,17649,19264,19837,21180,23835,24178,24197,25617,26198,26485,28491,28914,29615,29989,30804,34608,34829,35694,36341,40651,43705,46557,48917,49193,49625,51706,53612,54853,54973,55335,55948,56108,65028,66149,67430,67811,68416,69780,71869,77091,81721,83627,85832,93240,0,0,0,0,0,0,0,0,0,0,0,0,0,0,0,0,0,0,0,0,0,1435,1725,2499,2943,2994,3488,3707,3755,4297,4574,5900,8190,8589,8974,10373,12790,13344,13433,13692,14106,14641,15468,16789,17274,19297,19834,19889,20675,20764,21167,21844,22150,22231,22349,22667,23089,23123,23177,23674,24950,25563,26052,26583,28483,28774,29274,29454,29526,29906,30188,31219,31293,31335,31750,33797,34448,35129,36028,36157,36198,37316,38072,38160,40816,41811,41853,41882,42122,43032,43476,43539,43656,43787,43994,44669,45723,46886,47746,47908,48571,49829,50245,51847,53935,54244,54500,54542,55173,55616,55908,59291,62887,64330,64511,64518,65573,67105,71982,75304,76333,76363,76682,76944,78843,84617,90278,116885,0,0,0,0,0,0,0,2354,2858,3557,7181,9558,11338,11779,13696,15292,15943,17964,19789,20585,20941,20989,21956,22958,23174,24086,24278,24934,26011,28364,28821,30282,30335,31725,35848,36557,36569,37795,38160,39232,39760,39916,40034,43651,44042,44117,46988,48606,51782,52083,53896,55711,56419,58139,69064,72594,72861,73998,81939,0,0,0,0,0,0,0,0,0,0,582,1272,4961,6371,6745,7263,8550,9303,9864,10109,10545,11178,11383,11992,12125,12837,14106,14438,14535,14710,15017,16234,17499,18332,18855,19935,20268,22296,23512,23745,23975,24347,24432,24736,25297,25792,26031,26431,26715,28277,28324,28573,28969,29133,31542,33116,33559,33984,34310,34447,34540,35273,35620,35896,36146,36422,37057,37174,37908,38849,40357,40436,41327,42599,43454,44101,44604,44795,46244,46400,48863,48870,50523,50989,54261,55452,58563,63875,66156,66414,67446,71568,78190,113432,0,0,0,0,0,0,0,0,0,0,0,0,0,0,0,0,0,0,0,0,0,0,0,0,0,0,0,0,0,0,0,0,0,0,0,0,0,0,0,0,0,0,0,0,0,0,0,0,0,0,0,0,0,0,0,0,0,0,0,0,0,0,0,0,0,0,0,0,0,0,0,433,723,948,1004,1344,1497,2103,2219,2497,2607,2643,2790,2872,3129,3131,3212,4053,4069,4114,4114,4165,4267,4496,4515,4519,4558,4618,4710,5223,5513,5557,5598,6148,6218,6382,6790,7061,7439,7478,7904,7985,8041,8182,8231,8398,9156,9233,9284,9515,9521,9574,9864,9910,10067,10115,10304,10448,10578,10734,10766,10821,10922,11017,11055,11062,11117,11169,11347,11384,11424,11649,12105,12337,12356,12497,12594,12944,13057,13238,13408,13486,13565,13623,13826,14049,14361,14366,14394,14475,14799,14882,14925,15058,15184,15354,15468,15580,15868,15942,15979,16118,16139,16162,16222,16325,16508,16618,16758,16821,16949,16976,16999,17128,17190,17202,17292,17342,17727,17746,17820,17889,17966,18046,18120,18187,18266,18391,18476,18553,18580,18610,18685,18726,18958,18991,19004,19186,19214,19304,19741,19779,19821,19852,20077,20346,21042,21051,21411,21412,21423,21556,21611,21625,21958,22070,22071,22211,22440,22621,22733,22737,22783,23011,23485,23506,23525,23588,23638,23933,23988,24059,24228,24382,24508,24656,24887,24909,25078,25107,25159,25202,25212,25892,25996,26125,26150,26262,26263,26376,26580,26785,26821,27080,27186,27465,27680,27725,27778,27817,28182,28200,28523,28640,28824,29137,29246,29303,29331,29480,29945,30081,30156,30194,30212,30339,30368,30467,30898,31066,31126,31421,31636,31812,31838,31985,32159,32227,32432,32542,33140,33232,33353,33372,33540,33801,33810,33813,33914,34153,34174,34955,35958,36111,36161,36228,36295,36416,36702,36781,36883,36995,37092,37313,37334,37411,37698,37810,37856,37936,38048,38144,38309,38312,38406,38579,38714,38721,38954,39301,39336,39457,40491,40532,40674,41265,41300,41303,41314,41422,41434,42110,42144,42751,42979,43395,43520,43571,43671,43855,44014,44020,44171,44224,44358,44427,44553,44655,44665,44776,45593,46331,46448,46636,46833,47168,47322,47525,47675,47853,47911,47983,48015,48062,48250,48341,48417,48617,49725,49762,49837,49956,50121,50316,50498,50507,51341,51381,51779,51819,52027,52621,52641,52771,53308,53435,54026,54089,54767,54810,54909,55045,55395,56661,56842,57352,58581,59940,60087,60088,60256,60731,61016,61222,62340,62427,63052,64256,64477,64488,64684,64834,65115,67123,67364,67392,67536,68331,69360,69737,69823,72429,72914,75460,76598,77001,79189,81313,89141,96205,99222,102914,119714,143215],\"y\":[1,1,1,1,1,1,1,1,1,1,1,1,1,1,1,1,1,1,1,1,1,1,1,1,1,1,1,1,1,1,1,2,2,2,2,2,2,2,2,2,2,2,2,2,2,2,2,2,2,2,2,2,2,2,2,2,2,2,2,2,2,2,2,2,2,2,2,2,2,2,2,2,2,2,2,2,2,2,2,2,2,2,2,2,2,2,2,2,2,2,2,2,2,2,2,2,2,2,2,2,2,2,2,2,3,3,3,3,3,3,3,3,3,3,3,3,3,3,3,3,3,3,3,3,3,3,3,3,3,3,3,3,3,3,3,3,3,3,3,3,3,3,3,3,3,3,3,3,3,3,3,3,3,3,3,3,3,3,3,3,3,3,3,3,3,3,3,3,3,3,3,3,3,3,3,3,3,3,3,3,3,3,3,3,3,3,3,3,3,3,3,3,3,3,3,3,3,3,3,3,3,3,3,3,3,3,3,3,3,3,3,3,3,3,3,3,3,3,3,3,3,3,3,3,3,3,3,3,3,3,3,3,4,4,4,4,4,4,4,4,4,4,4,4,4,4,4,4,4,4,4,4,4,4,4,4,4,4,4,4,4,4,4,4,4,4,4,4,4,4,4,4,4,4,4,4,4,4,4,4,4,4,4,4,4,4,4,4,4,4,4,5,5,5,5,5,5,5,5,5,5,5,5,5,5,5,5,5,5,5,5,5,5,5,5,5,5,5,5,5,5,5,5,5,5,5,5,5,5,5,5,5,5,5,5,5,5,5,5,5,5,5,5,5,5,5,5,5,5,5,5,5,5,5,5,5,5,5,5,5,5,5,5,5,5,5,5,5,5,5,5,5,5,5,5,5,5,5,5,5,5,5,5,5,5,6,6,6,6,6,6,6,6,6,6,6,6,6,6,6,6,6,6,6,6,6,6,6,6,6,6,6,6,6,6,6,6,6,6,6,6,6,6,6,6,6,6,6,6,6,6,6,6,6,6,6,6,6,6,6,6,6,6,6,6,6,6,6,6,6,6,6,6,6,6,6,6,6,6,6,6,6,6,6,6,6,6,6,6,6,6,6,6,6,6,6,6,6,6,6,6,6,6,6,6,6,6,6,6,6,6,6,6,6,6,6,6,6,6,6,6,6,6,6,6,6,6,6,6,6,6,6,6,6,6,6,6,6,6,6,6,6,6,6,6,6,6,6,6,6,6,6,6,6,6,6,6,6,6,6,6,6,6,6,6,6,6,6,6,6,6,6,6,6,6,6,6,6,6,6,6,6,6,6,6,6,6,6,6,6,6,6,6,6,6,6,6,6,6,6,6,6,6,6,6,6,6,6,6,6,6,6,6,6,6,6,6,6,6,6,6,6,6,6,6,6,6,6,6,6,6,6,6,6,6,6,6,6,6,6,6,6,6,6,6,6,6,6,6,6,6,6,6,6,6,6,6,6,6,6,6,6,6,6,6,6,6,6,6,6,6,6,6,6,6,6,6,6,6,6,6,6,6,6,6,6,6,6,6,6,6,6,6,6,6,6,6,6,6,6,6,6,6,6,6,6,6,6,6,6,6,6,6,6,6,6,6,6,6,6,6,6,6,6,6,6,6,6,6,6,6,6,6,6,6,6,6,6,6,6,6,6,6,6,6,6,6,6,6,6,6,6,6,6,6,6,6,6,6,6,6,6,6,6,6,6,6,6,6,6,6,6,6,6,6,6,6,6,6,6,6,6,6,6,6,6,6,6,6,6,6,6,6,6,6,6,6,6,6,6,6,6,6,6,6,6,6,6,6,6,6,6,6,6,6,6,6,6,6,6,6,6,6,6,6,6,6,6,6,6,6,6,6,6,6,6,6,6,6,6,6,6,6,6,6,6,6,6,6,6,6,6,6,6,6,6,6,6,6]},\"selected\":{\"id\":\"1288\"},\"selection_policy\":{\"id\":\"1287\"}},\"id\":\"1251\",\"type\":\"ColumnDataSource\"},{\"attributes\":{\"coordinates\":null,\"group\":null},\"id\":\"1279\",\"type\":\"Title\"},{\"attributes\":{\"source\":{\"id\":\"1251\"}},\"id\":\"1256\",\"type\":\"CDSView\"},{\"attributes\":{\"fill_alpha\":{\"value\":0.1},\"fill_color\":{\"value\":\"#1f77b4\"},\"hatch_alpha\":{\"value\":0.1},\"line_alpha\":{\"value\":0.1},\"line_color\":{\"value\":\"#1f77b4\"},\"x\":{\"field\":\"x\"},\"y\":{\"field\":\"y\"}},\"id\":\"1253\",\"type\":\"Circle\"},{\"attributes\":{\"coordinates\":null,\"formatter\":{\"id\":\"1282\"},\"group\":null,\"major_label_policy\":{\"id\":\"1283\"},\"ticker\":{\"id\":\"1234\"}},\"id\":\"1233\",\"type\":\"LinearAxis\"},{\"attributes\":{\"axis\":{\"id\":\"1233\"},\"coordinates\":null,\"dimension\":1,\"group\":null,\"ticker\":null},\"id\":\"1236\",\"type\":\"Grid\"},{\"attributes\":{\"coordinates\":null,\"data_source\":{\"id\":\"1251\"},\"glyph\":{\"id\":\"1252\"},\"group\":null,\"hover_glyph\":null,\"muted_glyph\":{\"id\":\"1254\"},\"nonselection_glyph\":{\"id\":\"1253\"},\"view\":{\"id\":\"1256\"}},\"id\":\"1255\",\"type\":\"GlyphRenderer\"},{\"attributes\":{\"bottom_units\":\"screen\",\"coordinates\":null,\"fill_alpha\":0.5,\"fill_color\":\"lightgrey\",\"group\":null,\"left_units\":\"screen\",\"level\":\"overlay\",\"line_alpha\":1.0,\"line_color\":\"black\",\"line_dash\":[4,4],\"line_width\":2,\"right_units\":\"screen\",\"syncable\":false,\"top_units\":\"screen\"},\"id\":\"1243\",\"type\":\"BoxAnnotation\"},{\"attributes\":{\"fill_alpha\":{\"value\":0.2},\"fill_color\":{\"value\":\"#1f77b4\"},\"hatch_alpha\":{\"value\":0.2},\"line_alpha\":{\"value\":0.2},\"line_color\":{\"value\":\"#1f77b4\"},\"x\":{\"field\":\"x\"},\"y\":{\"field\":\"y\"}},\"id\":\"1254\",\"type\":\"Circle\"},{\"attributes\":{},\"id\":\"1238\",\"type\":\"WheelZoomTool\"}],\"root_ids\":[\"1220\"]},\"title\":\"Bokeh Application\",\"version\":\"2.4.3\"}};\n",
       "  const render_items = [{\"docid\":\"06ac2a14-2975-40bb-820c-71c844af45d4\",\"root_ids\":[\"1220\"],\"roots\":{\"1220\":\"bb950676-6563-4701-89b5-f6e95917e835\"}}];\n",
       "  root.Bokeh.embed.embed_items_notebook(docs_json, render_items);\n",
       "  }\n",
       "  if (root.Bokeh !== undefined) {\n",
       "    embed_document(root);\n",
       "  } else {\n",
       "    let attempts = 0;\n",
       "    const timer = setInterval(function(root) {\n",
       "      if (root.Bokeh !== undefined) {\n",
       "        clearInterval(timer);\n",
       "        embed_document(root);\n",
       "      } else {\n",
       "        attempts++;\n",
       "        if (attempts > 100) {\n",
       "          clearInterval(timer);\n",
       "          console.log(\"Bokeh: ERROR: Unable to run BokehJS code because BokehJS library is missing\");\n",
       "        }\n",
       "      }\n",
       "    }, 10, root)\n",
       "  }\n",
       "})(window);"
      ],
      "application/vnd.bokehjs_exec.v0+json": ""
     },
     "metadata": {
      "application/vnd.bokehjs_exec.v0+json": {
       "id": "1220"
      }
     },
     "output_type": "display_data"
    }
   ],
   "source": [
    "p = figure(width=400, height=400)\n",
    "\n",
    "# add a circle renderer with x and y coordinates, size, color, and alpha\n",
    "p.circle(df_running[\"weekstep\"],df_running[\"freq\"])\n",
    "\n",
    "show(p) # show the results"
   ]
  },
  {
   "cell_type": "code",
   "execution_count": 16,
   "metadata": {
    "colab": {
     "base_uri": "https://localhost:8080/",
     "height": 417
    },
    "id": "0AvCUzB1byWO",
    "outputId": "570ad23c-5dc2-4b1e-97ce-e030f1c1e0e1"
   },
   "outputs": [
    {
     "data": {
      "text/html": [
       "\n",
       "  <div class=\"bk-root\" id=\"1ad3fb83-dbc4-4bba-b404-4152bdaacf68\" data-root-id=\"1345\"></div>\n"
      ]
     },
     "metadata": {},
     "output_type": "display_data"
    },
    {
     "data": {
      "application/javascript": [
       "(function(root) {\n",
       "  function embed_document(root) {\n",
       "  const docs_json = {\"65b09799-0421-46c7-ba87-cbf405d78d06\":{\"defs\":[],\"roots\":{\"references\":[{\"attributes\":{\"below\":[{\"id\":\"1354\"}],\"center\":[{\"id\":\"1357\"},{\"id\":\"1361\"}],\"height\":400,\"left\":[{\"id\":\"1358\"}],\"renderers\":[{\"id\":\"1380\"}],\"title\":{\"id\":\"1415\"},\"toolbar\":{\"id\":\"1369\"},\"width\":400,\"x_range\":{\"id\":\"1346\"},\"x_scale\":{\"id\":\"1350\"},\"y_range\":{\"id\":\"1348\"},\"y_scale\":{\"id\":\"1352\"}},\"id\":\"1345\",\"subtype\":\"Figure\",\"type\":\"Plot\"},{\"attributes\":{\"overlay\":{\"id\":\"1368\"}},\"id\":\"1364\",\"type\":\"BoxZoomTool\"},{\"attributes\":{},\"id\":\"1362\",\"type\":\"PanTool\"},{\"attributes\":{},\"id\":\"1363\",\"type\":\"WheelZoomTool\"},{\"attributes\":{},\"id\":\"1359\",\"type\":\"BasicTicker\"},{\"attributes\":{\"axis\":{\"id\":\"1358\"},\"coordinates\":null,\"dimension\":1,\"group\":null,\"ticker\":null},\"id\":\"1361\",\"type\":\"Grid\"},{\"attributes\":{\"bottom_units\":\"screen\",\"coordinates\":null,\"fill_alpha\":0.5,\"fill_color\":\"lightgrey\",\"group\":null,\"left_units\":\"screen\",\"level\":\"overlay\",\"line_alpha\":1.0,\"line_color\":\"black\",\"line_dash\":[4,4],\"line_width\":2,\"right_units\":\"screen\",\"syncable\":false,\"top_units\":\"screen\"},\"id\":\"1368\",\"type\":\"BoxAnnotation\"},{\"attributes\":{\"axis\":{\"id\":\"1354\"},\"coordinates\":null,\"group\":null,\"ticker\":null},\"id\":\"1357\",\"type\":\"Grid\"},{\"attributes\":{},\"id\":\"1421\",\"type\":\"BasicTickFormatter\"},{\"attributes\":{},\"id\":\"1346\",\"type\":\"DataRange1d\"},{\"attributes\":{},\"id\":\"1422\",\"type\":\"AllLabels\"},{\"attributes\":{},\"id\":\"1418\",\"type\":\"BasicTickFormatter\"},{\"attributes\":{\"tools\":[{\"id\":\"1362\"},{\"id\":\"1363\"},{\"id\":\"1364\"},{\"id\":\"1365\"},{\"id\":\"1366\"},{\"id\":\"1367\"}]},\"id\":\"1369\",\"type\":\"Toolbar\"},{\"attributes\":{},\"id\":\"1419\",\"type\":\"AllLabels\"},{\"attributes\":{\"data\":{\"x\":[18,18,18,19,19,19,19,19,19,19,20,20,20,20,20,20,20,20,20,20,20,20,20,21,21,21,21,21,21,21,21,22,22,22,22,22,22,22,22,22,22,22,22,22,22,22,22,22,22,22,22,22,22,22,23,23,23,23,23,23,23,23,23,23,23,23,23,23,23,23,23,23,23,23,23,23,23,23,23,23,23,23,23,23,24,24,24,24,24,24,24,24,24,24,24,24,24,24,24,24,24,24,24,24,24,24,24,24,24,24,24,25,25,25,25,25,25,25,25,25,25,25,25,25,25,25,25,25,25,25,25,25,25,26,26,26,26,26,26,26,26,26,26,26,26,26,26,26,26,26,26,26,26,26,26,26,26,26,27,27,27,27,27,27,27,27,27,27,27,27,27,27,27,27,27,27,27,27,27,27,27,27,27,27,27,27,27,28,28,28,28,28,28,28,28,28,28,28,28,28,28,28,28,28,28,28,28,28,29,29,29,29,29,29,29,29,29,29,29,29,29,29,29,29,29,29,29,29,29,29,29,29,29,29,29,29,29,30,30,30,30,30,30,30,30,30,30,30,30,30,30,30,30,30,30,30,30,30,30,30,30,30,30,30,30,30,30,30,30,30,30,31,31,31,31,31,31,31,31,31,31,31,31,31,31,31,31,31,31,31,31,31,31,31,31,31,31,31,31,31,31,31,31,31,31,31,32,32,32,32,32,32,32,32,32,32,32,32,32,32,32,32,32,32,32,32,32,32,32,32,32,32,32,32,32,33,33,33,33,33,33,33,33,33,33,33,33,33,33,33,33,33,33,33,33,33,33,33,33,33,33,33,33,33,33,33,33,33,33,33,33,33,33,33,33,33,33,34,34,34,34,34,34,34,34,34,34,34,34,34,34,34,34,34,34,34,34,34,34,34,34,34,34,34,34,34,34,34,34,34,34,34,34,35,35,35,35,35,35,35,35,35,35,35,35,35,35,35,35,35,35,35,35,35,35,35,35,35,35,35,35,35,35,35,35,35,35,35,35,35,35,35,36,36,36,36,36,36,36,36,36,36,36,36,36,36,36,36,36,36,36,36,36,36,36,36,36,36,36,36,37,37,37,37,37,37,37,37,37,37,37,37,37,37,37,37,37,37,37,37,37,37,37,37,37,37,37,37,37,37,37,37,38,38,38,38,38,38,38,38,38,38,38,38,38,38,38,38,38,38,38,38,38,38,38,38,38,38,38,38,38,38,38,39,39,39,39,39,39,39,39,39,39,39,39,39,39,39,39,39,39,39,39,39,39,39,39,39,39,39,39,39,39,40,40,40,40,40,40,40,40,40,40,40,40,40,40,40,40,40,40,40,40,40,40,41,41,41,41,41,41,41,41,41,41,41,41,41,41,41,41,41,41,41,41,41,41,41,42,42,42,42,42,42,42,42,42,42,42,42,42,42,42,42,42,42,42,42,42,42,42,42,42,42,42,42,42,42,43,43,43,43,43,43,43,43,43,43,43,43,43,43,43,43,43,43,43,43,43,43,43,43,43,43,44,44,44,44,44,44,44,44,44,44,44,44,44,44,44,44,44,44,44,44,44,44,44,44,45,45,45,45,45,45,45,45,46,46,46,46,46,46,46,46,46,46,46,46,46,46,46,46,46,46,46,46,46,46,46,47,47,47,47,47,47,47,47,47,47,47,47,47,47,47,47,47,47,48,48,48,48,48,48,48,48,48,48,48,48,48,48,48,48,49,49,49,49,49,49,49,49,49,49,49,49,49,50,50,50,50,50,50,50,50,50,50,50,50,50,50,50,50,50,50,51,51,51,51,51,51,51,51,51,51,52,52,52,52,52,52,52,52,52,52,52,52,52,52,52,52,53,53,53,53,53,53,53,53,53,53,53,53,54,54,54,54,54,54,55],\"y\":[0,55908,21625,22617,0,35694,21167,24934,0,67536,14106,15468,51847,64518,10545,22296,29133,3129,15058,24228,36883,48250,48341,13571,1180,17274,0,13696,51782,10448,27186,19837,24178,29615,30804,23123,24950,45723,39760,53896,18332,31542,34447,6148,11062,13408,16162,16222,19821,24887,46448,50507,60256,64684,0,34608,0,16789,23674,30188,41882,43539,47746,0,11338,26011,31725,0,15017,28277,35896,58563,4165,7439,9515,10304,10821,16618,21423,25159,33540,40674,48617,49725,40651,65028,41853,28364,69064,0,0,23512,23975,25297,67446,71568,6790,16508,16821,17342,18187,19186,22733,25212,30212,31985,42110,54810,64834,77001,89141,0,14868,16759,19264,54853,0,17964,28821,39232,35273,36422,63875,0,5557,8398,11169,11649,26125,36228,46833,49762,60088,0,52677,0,23835,36341,54973,5900,53935,11779,21956,11383,14438,17499,24347,41327,0,17727,18266,19741,26785,36111,37334,38144,56661,119714,0,50827,0,24197,55948,83627,1435,34448,36157,76363,22958,39916,72594,582,8550,10109,46244,0,2607,5598,9521,15942,22071,22737,29137,36295,37698,43571,69360,39958,48917,81721,3707,23177,29274,0,48606,73998,14106,55452,0,0,4515,15580,26580,28200,30368,51779,53308,54767,32836,0,69780,22150,33797,41811,64330,2858,15943,20585,24278,46988,12125,26431,42599,0,0,0,5223,18553,18685,18958,23011,23506,28182,37411,46636,64477,72429,0,1715,17482,25617,26198,19834,31750,54542,67105,7181,12837,36146,37174,66414,0,0,0,0,948,2103,11347,13565,17820,18046,24059,24656,27680,27778,28640,33813,41300,47911,51341,55045,6858,21180,0,2994,22349,31293,46886,0,6371,14535,37057,43454,113432,0,0,0,0,0,1344,3212,4069,4114,4114,17746,25892,27725,29303,31421,40532,41303,43395,47853,48062,57352,59940,93105,49625,0,0,0,20764,22231,36198,42122,3557,52083,55711,81939,9303,48863,4618,7478,11017,12594,14366,18726,21412,23588,28523,32542,36161,42144,44358,50316,0,13579,44156,0,46557,22667,25563,26052,29526,29906,40816,36569,58139,0,11992,19935,48870,66156,0,0,0,7904,10922,12944,13057,16949,19214,20346,22621,23988,29331,30339,31812,31838,33232,38309,40491,42751,49956,55395,58581,68331,0,3827,15338,0,0,0,0,2499,4574,19297,54500,76682,9558,20941,6745,20268,24736,33984,44101,0,0,0,6218,8231,16976,21051,23525,24508,24909,27080,33801,34153,38048,51381,61222,64488,26894,1479,17649,51706,53612,0,43994,44669,49829,50245,78843,15292,24086,37795,56419,72861,0,0,23745,34310,0,0,0,4267,9910,10734,12497,14394,17128,19304,32432,34955,35958,36702,37092,38406,43855,76598,143215,0,55335,66149,93240,0,0,38160,43032,2354,24432,40357,40436,0,0,0,8182,20077,21556,22440,25107,26263,27465,29945,30194,31126,33810,52771,67392,28491,29989,49193,68416,71869,0,13344,35129,38072,54244,65573,30335,0,11178,54261,0,0,0,0,0,3131,12356,15468,17292,18991,26821,31066,37856,44665,47983,52621,61016,0,30502,4954,0,0,3488,0,35620,44795,0,0,0,0,433,2790,4519,7061,9864,16758,25202,25996,26150,26376,32159,33353,36995,41265,44776,45593,50498,52027,0,null,8974,10373,20675,90278,30282,38160,44042,0,0,0,0,0,0,1004,2643,8041,11117,17889,19004,27817,39457,41314,44224,46331,50121,51819,65115,99222,8856,44976,0,0,56108,85832,0,28483,28774,31219,43787,0,0,19789,7263,14710,0,7985,11055,21611,39301,67123,0,8782,8589,13433,23089,40034,44117,26715,28969,0,0,0,12337,15184,17190,19852,24382,37313,38721,41422,47322,60087,96205,1630,10847,0,0,47908,55173,16234,26031,34540,37908,44604,50523,0,0,11384,12105,16999,18476,21411,22070,26262,30898,31636,32227,36416,44427,52641,54089,54909,81313,13457,67811,4297,21844,76333,23174,18855,50989,0,0,4053,5513,14049,14882,15979,19779,30081,33372,34174,38954,44171,47525,49837,63052,72914,102914,10825,0,0,1725,8190,12790,14641,43476,48571,71982,116885,43651,33116,0,6382,9574,13238,13623,14799,15868,18391,23485,37936,62427,19889,0,35848,33559,4496,10115,30467,75460,0,12170,34829,77091,0,29454,62887,28573,46400,0,0,0,0,2219,13826,18120,22211,23933,42979,44553,62340,64256,69737,15960,28914,43705,26583,37316,0,0,723,10578,11424,14475,30156,38312,41434,43520,44655,47168,69823,0,26485,67430,84617,4961,78190,0,0,0,2497,18610,23638,29480,38714,67364,79189,78851,0,0,0,36028,1272,28324,13486,18580,21042,38579,44014,53435,13692,31335,55616,59291,76944,20989,0,0,2872,4558,4710,9284,16325,25078,33140,33914,43671,54026,0,43656,9864,25792,0,0,16118,22783,44020,48015,0,2943,3755,75304,0,0,1497,9156,10067,10766,14925,16139,17966,29246,36781,37810,0,64511,0,38849,0,0,15354,21958,28824,47675,48417,60731,36557,0,9233,14361,17202,56842,39336]},\"selected\":{\"id\":\"1424\"},\"selection_policy\":{\"id\":\"1423\"}},\"id\":\"1376\",\"type\":\"ColumnDataSource\"},{\"attributes\":{\"fill_alpha\":{\"value\":0.1},\"fill_color\":{\"value\":\"#1f77b4\"},\"hatch_alpha\":{\"value\":0.1},\"line_alpha\":{\"value\":0.1},\"line_color\":{\"value\":\"#1f77b4\"},\"x\":{\"field\":\"x\"},\"y\":{\"field\":\"y\"}},\"id\":\"1378\",\"type\":\"Circle\"},{\"attributes\":{\"coordinates\":null,\"data_source\":{\"id\":\"1376\"},\"glyph\":{\"id\":\"1377\"},\"group\":null,\"hover_glyph\":null,\"muted_glyph\":{\"id\":\"1379\"},\"nonselection_glyph\":{\"id\":\"1378\"},\"view\":{\"id\":\"1381\"}},\"id\":\"1380\",\"type\":\"GlyphRenderer\"},{\"attributes\":{\"fill_color\":{\"value\":\"#1f77b4\"},\"line_color\":{\"value\":\"#1f77b4\"},\"x\":{\"field\":\"x\"},\"y\":{\"field\":\"y\"}},\"id\":\"1377\",\"type\":\"Circle\"},{\"attributes\":{\"fill_alpha\":{\"value\":0.2},\"fill_color\":{\"value\":\"#1f77b4\"},\"hatch_alpha\":{\"value\":0.2},\"line_alpha\":{\"value\":0.2},\"line_color\":{\"value\":\"#1f77b4\"},\"x\":{\"field\":\"x\"},\"y\":{\"field\":\"y\"}},\"id\":\"1379\",\"type\":\"Circle\"},{\"attributes\":{},\"id\":\"1367\",\"type\":\"HelpTool\"},{\"attributes\":{},\"id\":\"1355\",\"type\":\"BasicTicker\"},{\"attributes\":{},\"id\":\"1424\",\"type\":\"Selection\"},{\"attributes\":{},\"id\":\"1350\",\"type\":\"LinearScale\"},{\"attributes\":{\"coordinates\":null,\"formatter\":{\"id\":\"1421\"},\"group\":null,\"major_label_policy\":{\"id\":\"1422\"},\"ticker\":{\"id\":\"1355\"}},\"id\":\"1354\",\"type\":\"LinearAxis\"},{\"attributes\":{\"coordinates\":null,\"formatter\":{\"id\":\"1418\"},\"group\":null,\"major_label_policy\":{\"id\":\"1419\"},\"ticker\":{\"id\":\"1359\"}},\"id\":\"1358\",\"type\":\"LinearAxis\"},{\"attributes\":{\"coordinates\":null,\"group\":null},\"id\":\"1415\",\"type\":\"Title\"},{\"attributes\":{},\"id\":\"1348\",\"type\":\"DataRange1d\"},{\"attributes\":{},\"id\":\"1352\",\"type\":\"LinearScale\"},{\"attributes\":{},\"id\":\"1423\",\"type\":\"UnionRenderers\"},{\"attributes\":{},\"id\":\"1366\",\"type\":\"ResetTool\"},{\"attributes\":{\"source\":{\"id\":\"1376\"}},\"id\":\"1381\",\"type\":\"CDSView\"},{\"attributes\":{},\"id\":\"1365\",\"type\":\"SaveTool\"}],\"root_ids\":[\"1345\"]},\"title\":\"Bokeh Application\",\"version\":\"2.4.3\"}};\n",
       "  const render_items = [{\"docid\":\"65b09799-0421-46c7-ba87-cbf405d78d06\",\"root_ids\":[\"1345\"],\"roots\":{\"1345\":\"1ad3fb83-dbc4-4bba-b404-4152bdaacf68\"}}];\n",
       "  root.Bokeh.embed.embed_items_notebook(docs_json, render_items);\n",
       "  }\n",
       "  if (root.Bokeh !== undefined) {\n",
       "    embed_document(root);\n",
       "  } else {\n",
       "    let attempts = 0;\n",
       "    const timer = setInterval(function(root) {\n",
       "      if (root.Bokeh !== undefined) {\n",
       "        clearInterval(timer);\n",
       "        embed_document(root);\n",
       "      } else {\n",
       "        attempts++;\n",
       "        if (attempts > 100) {\n",
       "          clearInterval(timer);\n",
       "          console.log(\"Bokeh: ERROR: Unable to run BokehJS code because BokehJS library is missing\");\n",
       "        }\n",
       "      }\n",
       "    }, 10, root)\n",
       "  }\n",
       "})(window);"
      ],
      "application/vnd.bokehjs_exec.v0+json": ""
     },
     "metadata": {
      "application/vnd.bokehjs_exec.v0+json": {
       "id": "1345"
      }
     },
     "output_type": "display_data"
    }
   ],
   "source": [
    "p = figure(width=400, height=400)\n",
    "df_running = df_running.sort(\"age\")\n",
    "# add a circle renderer with x and y coordinates, size, color, and alpha\n",
    "p.circle(df_running[\"age\"],df_running[\"weekstep\"])\n",
    "\n",
    "show(p) # show the results"
   ]
  },
  {
   "cell_type": "code",
   "execution_count": 17,
   "metadata": {
    "colab": {
     "base_uri": "https://localhost:8080/",
     "height": 161
    },
    "id": "bRyCdTm1cp74",
    "outputId": "b83d5ebb-d1b4-4d66-d0fa-413b1d6b08f1"
   },
   "outputs": [
    {
     "data": {
      "text/html": [
       "<div><style>\n",
       ".dataframe > thead > tr > th,\n",
       ".dataframe > tbody > tr > td {\n",
       "  text-align: right;\n",
       "}\n",
       "</style>\n",
       "<small>shape: (2, 3)</small><table border=\"1\" class=\"dataframe\"><thead><tr><th>gender</th><th>freq</th><th>weekstep</th></tr><tr><td>u8</td><td>f64</td><td>f64</td></tr></thead><tbody><tr><td>1</td><td>4.361111</td><td>29814.024691</td></tr><tr><td>2</td><td>5.005825</td><td>25671.048638</td></tr></tbody></table></div>"
      ],
      "text/plain": [
       "shape: (2, 3)\n",
       "┌────────┬──────────┬──────────────┐\n",
       "│ gender ┆ freq     ┆ weekstep     │\n",
       "│ ---    ┆ ---      ┆ ---          │\n",
       "│ u8     ┆ f64      ┆ f64          │\n",
       "╞════════╪══════════╪══════════════╡\n",
       "│ 1      ┆ 4.361111 ┆ 29814.024691 │\n",
       "│ 2      ┆ 5.005825 ┆ 25671.048638 │\n",
       "└────────┴──────────┴──────────────┘"
      ]
     },
     "execution_count": 17,
     "metadata": {},
     "output_type": "execute_result"
    }
   ],
   "source": [
    "#some groupbys \n",
    "df_running.groupby(\"gender\").agg([pl.col(\"freq\").mean(),pl.col(\"weekstep\").mean()])"
   ]
  },
  {
   "cell_type": "code",
   "execution_count": 18,
   "metadata": {
    "colab": {
     "base_uri": "https://localhost:8080/",
     "height": 882
    },
    "id": "Qngb9vECdCZy",
    "outputId": "e4800814-853d-4c7c-bb2c-f98d93d3c716"
   },
   "outputs": [
    {
     "data": {
      "text/html": [
       "<div><style>\n",
       ".dataframe > thead > tr > th,\n",
       ".dataframe > tbody > tr > td {\n",
       "  text-align: right;\n",
       "}\n",
       "</style>\n",
       "<small>shape: (38, 3)</small><table border=\"1\" class=\"dataframe\"><thead><tr><th>age</th><th>freq</th><th>weekstep</th></tr><tr><td>u8</td><td>f64</td><td>f64</td></tr></thead><tbody><tr><td>18</td><td>3.666667</td><td>25844.333333</td></tr><tr><td>19</td><td>3.428571</td><td>24564.0</td></tr><tr><td>20</td><td>4.846154</td><td>29523.230769</td></tr><tr><td>21</td><td>3.75</td><td>16892.125</td></tr><tr><td>22</td><td>4.608696</td><td>30687.478261</td></tr><tr><td>23</td><td>4.6</td><td>24108.433333</td></tr><tr><td>24</td><td>5.185185</td><td>36652.962963</td></tr><tr><td>25</td><td>4.454545</td><td>26506.363636</td></tr><tr><td>26</td><td>4.36</td><td>29634.92</td></tr><tr><td>27</td><td>4.344828</td><td>29603.172414</td></tr><tr><td>28</td><td>4.571429</td><td>32572.047619</td></tr><tr><td>29</td><td>4.689655</td><td>28054.551724</td></tr><tr><td>&hellip;</td><td>&hellip;</td><td>&hellip;</td></tr><tr><td>44</td><td>4.375</td><td>25898.958333</td></tr><tr><td>45</td><td>5.0</td><td>26229.25</td></tr><tr><td>46</td><td>4.826087</td><td>28503.391304</td></tr><tr><td>47</td><td>4.944444</td><td>28041.444444</td></tr><tr><td>48</td><td>4.9375</td><td>32573.4375</td></tr><tr><td>49</td><td>4.384615</td><td>25662.384615</td></tr><tr><td>50</td><td>5.055556</td><td>26969.166667</td></tr><tr><td>51</td><td>5.2</td><td>21024.8</td></tr><tr><td>52</td><td>5.1875</td><td>16647.1875</td></tr><tr><td>53</td><td>5.333333</td><td>27193.25</td></tr><tr><td>54</td><td>5.5</td><td>22365.833333</td></tr><tr><td>55</td><td>6.0</td><td>39336.0</td></tr></tbody></table></div>"
      ],
      "text/plain": [
       "shape: (38, 3)\n",
       "┌─────┬──────────┬──────────────┐\n",
       "│ age ┆ freq     ┆ weekstep     │\n",
       "│ --- ┆ ---      ┆ ---          │\n",
       "│ u8  ┆ f64      ┆ f64          │\n",
       "╞═════╪══════════╪══════════════╡\n",
       "│ 18  ┆ 3.666667 ┆ 25844.333333 │\n",
       "│ 19  ┆ 3.428571 ┆ 24564.0      │\n",
       "│ 20  ┆ 4.846154 ┆ 29523.230769 │\n",
       "│ 21  ┆ 3.75     ┆ 16892.125    │\n",
       "│ …   ┆ …        ┆ …            │\n",
       "│ 52  ┆ 5.1875   ┆ 16647.1875   │\n",
       "│ 53  ┆ 5.333333 ┆ 27193.25     │\n",
       "│ 54  ┆ 5.5      ┆ 22365.833333 │\n",
       "│ 55  ┆ 6.0      ┆ 39336.0      │\n",
       "└─────┴──────────┴──────────────┘"
      ]
     },
     "execution_count": 18,
     "metadata": {},
     "output_type": "execute_result"
    }
   ],
   "source": [
    "df_running.groupby(\"age\").agg([pl.col(\"freq\").mean(),pl.col(\"weekstep\").mean()])"
   ]
  },
  {
   "cell_type": "code",
   "execution_count": 19,
   "metadata": {
    "colab": {
     "base_uri": "https://localhost:8080/",
     "height": 286
    },
    "id": "bvmO57OkdPmr",
    "outputId": "8d58770c-0793-4bd6-dcb9-e3939fac9d14"
   },
   "outputs": [
    {
     "data": {
      "text/html": [
       "<div><style>\n",
       ".dataframe > thead > tr > th,\n",
       ".dataframe > tbody > tr > td {\n",
       "  text-align: right;\n",
       "}\n",
       "</style>\n",
       "<small>shape: (6, 2)</small><table border=\"1\" class=\"dataframe\"><thead><tr><th>freq</th><th>weekstep</th></tr><tr><td>u32</td><td>f64</td></tr></thead><tbody><tr><td>2</td><td>29837.236111</td></tr><tr><td>4</td><td>30178.118644</td></tr><tr><td>5</td><td>28237.829787</td></tr><tr><td>6</td><td>25949.42511</td></tr><tr><td>3</td><td>30080.632812</td></tr><tr><td>1</td><td>20650.225806</td></tr></tbody></table></div>"
      ],
      "text/plain": [
       "shape: (6, 2)\n",
       "┌──────┬──────────────┐\n",
       "│ freq ┆ weekstep     │\n",
       "│ ---  ┆ ---          │\n",
       "│ u32  ┆ f64          │\n",
       "╞══════╪══════════════╡\n",
       "│ 2    ┆ 29837.236111 │\n",
       "│ 4    ┆ 30178.118644 │\n",
       "│ 5    ┆ 28237.829787 │\n",
       "│ 6    ┆ 25949.42511  │\n",
       "│ 3    ┆ 30080.632812 │\n",
       "│ 1    ┆ 20650.225806 │\n",
       "└──────┴──────────────┘"
      ]
     },
     "execution_count": 19,
     "metadata": {},
     "output_type": "execute_result"
    }
   ],
   "source": [
    "df_running.groupby(\"freq\").agg([pl.col(\"weekstep\").mean()])"
   ]
  },
  {
   "cell_type": "code",
   "execution_count": 20,
   "metadata": {
    "colab": {
     "base_uri": "https://localhost:8080/",
     "height": 161
    },
    "id": "i5ub_NoPd9Cn",
    "outputId": "d0a1ea1b-c5ec-42f3-93e6-8e51c12a3461"
   },
   "outputs": [
    {
     "data": {
      "text/html": [
       "<div><style>\n",
       ".dataframe > thead > tr > th,\n",
       ".dataframe > tbody > tr > td {\n",
       "  text-align: right;\n",
       "}\n",
       "</style>\n",
       "<small>shape: (2, 2)</small><table border=\"1\" class=\"dataframe\"><thead><tr><th>sport</th><th>weekstep</th></tr><tr><td>bool</td><td>f64</td></tr></thead><tbody><tr><td>false</td><td>25228.507905</td></tr><tr><td>true</td><td>30388.668675</td></tr></tbody></table></div>"
      ],
      "text/plain": [
       "shape: (2, 2)\n",
       "┌───────┬──────────────┐\n",
       "│ sport ┆ weekstep     │\n",
       "│ ---   ┆ ---          │\n",
       "│ bool  ┆ f64          │\n",
       "╞═══════╪══════════════╡\n",
       "│ false ┆ 25228.507905 │\n",
       "│ true  ┆ 30388.668675 │\n",
       "└───────┴──────────────┘"
      ]
     },
     "execution_count": 20,
     "metadata": {},
     "output_type": "execute_result"
    }
   ],
   "source": [
    "df_running.groupby(\"sport\").agg([pl.col(\"weekstep\").mean()])"
   ]
  },
  {
   "cell_type": "code",
   "execution_count": 21,
   "metadata": {
    "colab": {
     "base_uri": "https://localhost:8080/",
     "height": 286
    },
    "id": "BgVeyChEepvS",
    "outputId": "57f2386c-bf4f-4210-c4be-f0944a250b9c"
   },
   "outputs": [
    {
     "data": {
      "text/html": [
       "<div><style>\n",
       ".dataframe > thead > tr > th,\n",
       ".dataframe > tbody > tr > td {\n",
       "  text-align: right;\n",
       "}\n",
       "</style>\n",
       "<small>shape: (6, 2)</small><table border=\"1\" class=\"dataframe\"><thead><tr><th>freq</th><th>sport</th></tr><tr><td>u32</td><td>list[struct[2]]</td></tr></thead><tbody><tr><td>4</td><td>[{true,22}, {false,37}]</td></tr><tr><td>1</td><td>[{true,6}, {false,25}]</td></tr><tr><td>3</td><td>[{true,53}, {false,75}]</td></tr><tr><td>2</td><td>[{true,25}, {false,48}]</td></tr><tr><td>5</td><td>[{false,49}, {true,45}]</td></tr><tr><td>6</td><td>[{false,273}, {true,181}]</td></tr></tbody></table></div>"
      ],
      "text/plain": [
       "shape: (6, 2)\n",
       "┌──────┬───────────────────────────┐\n",
       "│ freq ┆ sport                     │\n",
       "│ ---  ┆ ---                       │\n",
       "│ u32  ┆ list[struct[2]]           │\n",
       "╞══════╪═══════════════════════════╡\n",
       "│ 4    ┆ [{true,22}, {false,37}]   │\n",
       "│ 1    ┆ [{true,6}, {false,25}]    │\n",
       "│ 3    ┆ [{true,53}, {false,75}]   │\n",
       "│ 2    ┆ [{true,25}, {false,48}]   │\n",
       "│ 5    ┆ [{false,49}, {true,45}]   │\n",
       "│ 6    ┆ [{false,273}, {true,181}] │\n",
       "└──────┴───────────────────────────┘"
      ]
     },
     "execution_count": 21,
     "metadata": {},
     "output_type": "execute_result"
    }
   ],
   "source": [
    "df_running.groupby(\"freq\").agg([pl.col(\"sport\").value_counts()])"
   ]
  },
  {
   "cell_type": "code",
   "execution_count": 22,
   "metadata": {
    "colab": {
     "base_uri": "https://localhost:8080/",
     "height": 216
    },
    "id": "F82m-djmgBYS",
    "outputId": "828f2959-c427-4070-b7d5-490e820cf0e2"
   },
   "outputs": [
    {
     "data": {
      "text/html": [
       "<div><style>\n",
       ".dataframe > thead > tr > th,\n",
       ".dataframe > tbody > tr > td {\n",
       "  text-align: right;\n",
       "}\n",
       "</style>\n",
       "<small>shape: (2, 25)</small><table border=\"1\" class=\"dataframe\"><thead><tr><th>Nike</th><th>adidas</th><th>Converse</th><th>Vans</th><th>Puma</th><th>Reebok</th><th>New Balance</th><th>Fila</th><th>Asics</th><th>Under Armour</th><th>Jordan</th><th>Timberland</th><th>Skechers</th><th>K-Swiss</th><th>Lacoste</th><th>Lotto</th><th>Mizuno</th><th>Salomon</th><th>Umbro</th><th>ecco</th><th>Diadora</th><th>Other</th><th>None of the above</th><th>Not applicable/prefer not to say</th><th>I don&#x27;t know</th></tr><tr><td>struct[2]</td><td>struct[2]</td><td>struct[2]</td><td>struct[2]</td><td>struct[2]</td><td>struct[2]</td><td>struct[2]</td><td>struct[2]</td><td>struct[2]</td><td>struct[2]</td><td>struct[2]</td><td>struct[2]</td><td>struct[2]</td><td>struct[2]</td><td>struct[2]</td><td>struct[2]</td><td>struct[2]</td><td>struct[2]</td><td>struct[2]</td><td>struct[2]</td><td>struct[2]</td><td>struct[2]</td><td>struct[2]</td><td>struct[2]</td><td>struct[2]</td></tr></thead><tbody><tr><td>{false,288}</td><td>{false,354}</td><td>{false,556}</td><td>{true,244}</td><td>{false,676}</td><td>{false,722}</td><td>{false,708}</td><td>{true,62}</td><td>{true,69}</td><td>{true,73}</td><td>{false,775}</td><td>{false,791}</td><td>{true,150}</td><td>{false,826}</td><td>{false,799}</td><td>{true,6}</td><td>{true,6}</td><td>{true,22}</td><td>{false,819}</td><td>{false,829}</td><td>{true,14}</td><td>{false,724}</td><td>{false,811}</td><td>{false,831}</td><td>{false,833}</td></tr><tr><td>{true,551}</td><td>{true,485}</td><td>{true,283}</td><td>{false,595}</td><td>{true,163}</td><td>{true,117}</td><td>{true,131}</td><td>{false,777}</td><td>{false,770}</td><td>{false,766}</td><td>{true,64}</td><td>{true,48}</td><td>{false,689}</td><td>{true,13}</td><td>{true,40}</td><td>{false,833}</td><td>{false,833}</td><td>{false,817}</td><td>{true,20}</td><td>{true,10}</td><td>{false,825}</td><td>{true,115}</td><td>{true,28}</td><td>{true,8}</td><td>{true,6}</td></tr></tbody></table></div>"
      ],
      "text/plain": [
       "shape: (2, 25)\n",
       "┌─────────────┬─────────────┬────────────┬────────────┬───┬────────────┬────────────┬────────────┬────────────┐\n",
       "│ Nike        ┆ adidas      ┆ Converse   ┆ Vans       ┆ … ┆ Other      ┆ None of    ┆ Not applic ┆ I don't    │\n",
       "│ ---         ┆ ---         ┆ ---        ┆ ---        ┆   ┆ ---        ┆ the above  ┆ able/prefe ┆ know       │\n",
       "│ struct[2]   ┆ struct[2]   ┆ struct[2]  ┆ struct[2]  ┆   ┆ struct[2]  ┆ ---        ┆ r not to   ┆ ---        │\n",
       "│             ┆             ┆            ┆            ┆   ┆            ┆ struct[2]  ┆ say        ┆ struct[2]  │\n",
       "│             ┆             ┆            ┆            ┆   ┆            ┆            ┆ ---        ┆            │\n",
       "│             ┆             ┆            ┆            ┆   ┆            ┆            ┆ struct[2]  ┆            │\n",
       "╞═════════════╪═════════════╪════════════╪════════════╪═══╪════════════╪════════════╪════════════╪════════════╡\n",
       "│ {false,288} ┆ {false,354} ┆ {false,556 ┆ {true,244} ┆ … ┆ {false,724 ┆ {false,811 ┆ {false,831 ┆ {false,833 │\n",
       "│             ┆             ┆ }          ┆            ┆   ┆ }          ┆ }          ┆ }          ┆ }          │\n",
       "│ {true,551}  ┆ {true,485}  ┆ {true,283} ┆ {false,595 ┆ … ┆ {true,115} ┆ {true,28}  ┆ {true,8}   ┆ {true,6}   │\n",
       "│             ┆             ┆            ┆ }          ┆   ┆            ┆            ┆            ┆            │\n",
       "└─────────────┴─────────────┴────────────┴────────────┴───┴────────────┴────────────┴────────────┴────────────┘"
      ]
     },
     "execution_count": 22,
     "metadata": {},
     "output_type": "execute_result"
    }
   ],
   "source": [
    "#a quick look at the trainer brand data\n",
    "train_cols = [(col,col.split(\"?\")[1].strip()) for col in df.columns if col[:2]==\"Q7\"]\n",
    "df_trainers = df.select([pl.col(t_in).alias(t_out).cast(pl.Boolean) for t_in,t_out in train_cols])\n",
    "df_trainers.select([pl.col(\"*\").value_counts()])\n"
   ]
  },
  {
   "cell_type": "code",
   "execution_count": 23,
   "metadata": {
    "colab": {
     "base_uri": "https://localhost:8080/",
     "height": 882
    },
    "id": "Tm6opbVRtOY3",
    "outputId": "760c2bd9-5e86-4539-de88-fa7b594d4173"
   },
   "outputs": [
    {
     "data": {
      "text/html": [
       "<div><style>\n",
       ".dataframe > thead > tr > th,\n",
       ".dataframe > tbody > tr > td {\n",
       "  text-align: right;\n",
       "}\n",
       "</style>\n",
       "<small>shape: (25, 3)</small><table border=\"1\" class=\"dataframe\"><thead><tr><th>trainer</th><th>freq</th><th>weekstep</th></tr><tr><td>str</td><td>list[struct[2]]</td><td>f64</td></tr></thead><tbody><tr><td>&quot;Salomon&quot;</td><td>[{2,2}, {6,12}, … {5,2}]</td><td>31619.727273</td></tr><tr><td>&quot;Puma&quot;</td><td>[{1,2}, {6,94}, … {4,10}]</td><td>27818.846626</td></tr><tr><td>&quot;Asics&quot;</td><td>[{1,4}, {6,34}, … {3,12}]</td><td>28363.985507</td></tr><tr><td>&quot;K-Swiss&quot;</td><td>[{4,1}, {6,5}, … {5,2}]</td><td>45822.461538</td></tr><tr><td>&quot;Other&quot;</td><td>[{3,11}, {2,10}, … {5,18}]</td><td>29088.313043</td></tr><tr><td>&quot;Timberland&quot;</td><td>[{2,4}, {3,7}, … {5,5}]</td><td>25901.395833</td></tr><tr><td>&quot;Converse&quot;</td><td>[{4,23}, {3,44}, … {2,22}]</td><td>28710.730496</td></tr><tr><td>&quot;Reebok&quot;</td><td>[{5,14}, {2,13}, … {6,59}]</td><td>28657.179487</td></tr><tr><td>&quot;New Balance&quot;</td><td>[{2,7}, {3,24}, … {1,6}]</td><td>27766.076336</td></tr><tr><td>&quot;Mizuno&quot;</td><td>[{6,2}, {1,1}, … {2,1}]</td><td>43348.666667</td></tr><tr><td>&quot;Lotto&quot;</td><td>[{3,2}, {6,2}, {2,2}]</td><td>33471.333333</td></tr><tr><td>&quot;Skechers&quot;</td><td>[{5,17}, {3,20}, … {2,13}]</td><td>32715.846667</td></tr><tr><td>&quot;Nike&quot;</td><td>[{4,36}, {6,300}, … {1,19}]</td><td>26922.176364</td></tr><tr><td>&quot;adidas&quot;</td><td>[{2,47}, {3,64}, … {5,57}]</td><td>27396.610309</td></tr><tr><td>&quot;Fila&quot;</td><td>[{1,3}, {2,3}, … {3,11}]</td><td>27158.967742</td></tr><tr><td>&quot;Vans&quot;</td><td>[{5,29}, {3,47}, … {1,12}]</td><td>29683.909836</td></tr><tr><td>&quot;Umbro&quot;</td><td>[{2,3}, {6,10}, … {3,2}]</td><td>24490.85</td></tr><tr><td>&quot;Lacoste&quot;</td><td>[{4,4}, {3,3}, … {2,4}]</td><td>22104.975</td></tr><tr><td>&quot;Diadora&quot;</td><td>[{2,2}, {4,2}, … {6,7}]</td><td>26267.0</td></tr><tr><td>&quot;Under Armour&quot;</td><td>[{2,10}, {5,8}, … {3,11}]</td><td>24377.561644</td></tr><tr><td>&quot;Jordan&quot;</td><td>[{5,6}, {4,8}, … {6,34}]</td><td>29404.140625</td></tr><tr><td>&quot;Not applicable…</td><td>[{4,1}, {2,2}, … {6,4}]</td><td>35232.5</td></tr><tr><td>&quot;I don&#x27;t know&quot;</td><td>[{2,2}, {6,3}, {1,1}]</td><td>33495.166667</td></tr><tr><td>&quot;None of the ab…</td><td>[{1,1}, {5,4}, … {3,4}]</td><td>17015.678571</td></tr><tr><td>&quot;ecco&quot;</td><td>[{2,1}, {6,5}, … {3,1}]</td><td>31071.3</td></tr></tbody></table></div>"
      ],
      "text/plain": [
       "shape: (25, 3)\n",
       "┌──────────────────────────────────┬───────────────────────────┬──────────────┐\n",
       "│ trainer                          ┆ freq                      ┆ weekstep     │\n",
       "│ ---                              ┆ ---                       ┆ ---          │\n",
       "│ str                              ┆ list[struct[2]]           ┆ f64          │\n",
       "╞══════════════════════════════════╪═══════════════════════════╪══════════════╡\n",
       "│ Salomon                          ┆ [{2,2}, {6,12}, … {5,2}]  ┆ 31619.727273 │\n",
       "│ Puma                             ┆ [{1,2}, {6,94}, … {4,10}] ┆ 27818.846626 │\n",
       "│ Asics                            ┆ [{1,4}, {6,34}, … {3,12}] ┆ 28363.985507 │\n",
       "│ K-Swiss                          ┆ [{4,1}, {6,5}, … {5,2}]   ┆ 45822.461538 │\n",
       "│ …                                ┆ …                         ┆ …            │\n",
       "│ Not applicable/prefer not to say ┆ [{4,1}, {2,2}, … {6,4}]   ┆ 35232.5      │\n",
       "│ I don't know                     ┆ [{2,2}, {6,3}, {1,1}]     ┆ 33495.166667 │\n",
       "│ None of the above                ┆ [{1,1}, {5,4}, … {3,4}]   ┆ 17015.678571 │\n",
       "│ ecco                             ┆ [{2,1}, {6,5}, … {3,1}]   ┆ 31071.3      │\n",
       "└──────────────────────────────────┴───────────────────────────┴──────────────┘"
      ]
     },
     "execution_count": 23,
     "metadata": {},
     "output_type": "execute_result"
    }
   ],
   "source": [
    "#interacting with a series and producing rows of trainer\n",
    "trainers = x = pl.Series(\"trainer\", [[df_trainers.columns[i] for i,j in enumerate(k) if j] for k in df_trainers.iter_rows()])\n",
    "df_trainers_shoe = df_running.hstack([trainers]).explode(\"trainer\")\n",
    "df_sum = df_trainers_shoe.groupby(\"trainer\").agg([pl.col(\"freq\").value_counts(),pl.col(\"weekstep\").mean()])\n",
    "df_sum"
   ]
  }
 ],
 "metadata": {
  "colab": {
   "provenance": []
  },
  "kernelspec": {
   "display_name": "gcp_prep",
   "language": "python",
   "name": "gcp_prep"
  },
  "language_info": {
   "codemirror_mode": {
    "name": "ipython",
    "version": 3
   },
   "file_extension": ".py",
   "mimetype": "text/x-python",
   "name": "python",
   "nbconvert_exporter": "python",
   "pygments_lexer": "ipython3",
   "version": "3.10.0"
  }
 },
 "nbformat": 4,
 "nbformat_minor": 1
}
